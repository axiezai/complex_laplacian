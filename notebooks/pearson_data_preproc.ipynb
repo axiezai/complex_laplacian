{
 "cells": [
  {
   "cell_type": "markdown",
   "metadata": {},
   "source": [
    "Sorting through BH optimization results\n",
    "--\n",
    "\n",
    "Pick the best performing result out of 10 initialization conditions for all 7 canonical networks."
   ]
  },
  {
   "cell_type": "code",
   "execution_count": 1,
   "metadata": {},
   "outputs": [],
   "source": [
    "%%capture --no-display\n",
    "import warnings\n",
    "warnings.filterwarnings('ignore')\n",
    "\n",
    "import os\n",
    "import h5py\n",
    "import numpy as np\n",
    "import pandas as pd\n",
    "import matplotlib.pyplot as plt\n",
    "from scipy import stats\n",
    "\n",
    "# spectrome imports\n",
    "from spectrome.brain import Brain\n",
    "from spectrome.utils import functions, path\n",
    "from spectrome.forward import eigenmode, laplacian"
   ]
  },
  {
   "cell_type": "markdown",
   "metadata": {},
   "source": [
    "Default Network results:"
   ]
  },
  {
   "cell_type": "code",
   "execution_count": 3,
   "metadata": {},
   "outputs": [
    {
     "data": {
      "text/html": [
       "<style  type=\"text/css\" >\n",
       "    #T_31abbf6a_25c4_11ea_8d83_00215cf14861row2_col0 {\n",
       "            background-color:  yellow;\n",
       "        }</style>  \n",
       "<table id=\"T_31abbf6a_25c4_11ea_8d83_00215cf14861\" > \n",
       "<thead>    <tr> \n",
       "        <th class=\"blank level0\" ></th> \n",
       "        <th class=\"col_heading level0 col0\" >Fun</th> \n",
       "        <th class=\"col_heading level0 col1\" >x</th> \n",
       "    </tr></thead> \n",
       "<tbody>    <tr> \n",
       "        <th id=\"T_31abbf6a_25c4_11ea_8d83_00215cf14861level0_row0\" class=\"row_heading level0 row0\" >0</th> \n",
       "        <td id=\"T_31abbf6a_25c4_11ea_8d83_00215cf14861row0_col0\" class=\"data row0 col0\" >0.527554</td> \n",
       "        <td id=\"T_31abbf6a_25c4_11ea_8d83_00215cf14861row0_col1\" class=\"data row0 col1\" >[2.395 0.738]</td> \n",
       "    </tr>    <tr> \n",
       "        <th id=\"T_31abbf6a_25c4_11ea_8d83_00215cf14861level0_row1\" class=\"row_heading level0 row1\" >1</th> \n",
       "        <td id=\"T_31abbf6a_25c4_11ea_8d83_00215cf14861row1_col0\" class=\"data row1 col0\" >0.390489</td> \n",
       "        <td id=\"T_31abbf6a_25c4_11ea_8d83_00215cf14861row1_col1\" class=\"data row1 col1\" >[   1.061 -161.628]</td> \n",
       "    </tr>    <tr> \n",
       "        <th id=\"T_31abbf6a_25c4_11ea_8d83_00215cf14861level0_row2\" class=\"row_heading level0 row2\" >2</th> \n",
       "        <td id=\"T_31abbf6a_25c4_11ea_8d83_00215cf14861row2_col0\" class=\"data row2 col0\" >0.586559</td> \n",
       "        <td id=\"T_31abbf6a_25c4_11ea_8d83_00215cf14861row2_col1\" class=\"data row2 col1\" >[ 2.836 30.476]</td> \n",
       "    </tr>    <tr> \n",
       "        <th id=\"T_31abbf6a_25c4_11ea_8d83_00215cf14861level0_row3\" class=\"row_heading level0 row3\" >3</th> \n",
       "        <td id=\"T_31abbf6a_25c4_11ea_8d83_00215cf14861row3_col0\" class=\"data row3 col0\" >0.43892</td> \n",
       "        <td id=\"T_31abbf6a_25c4_11ea_8d83_00215cf14861row3_col1\" class=\"data row3 col1\" >[  1.105 205.476]</td> \n",
       "    </tr>    <tr> \n",
       "        <th id=\"T_31abbf6a_25c4_11ea_8d83_00215cf14861level0_row4\" class=\"row_heading level0 row4\" >4</th> \n",
       "        <td id=\"T_31abbf6a_25c4_11ea_8d83_00215cf14861row4_col0\" class=\"data row4 col0\" >0.359411</td> \n",
       "        <td id=\"T_31abbf6a_25c4_11ea_8d83_00215cf14861row4_col1\" class=\"data row4 col1\" >[  0.438 407.127]</td> \n",
       "    </tr>    <tr> \n",
       "        <th id=\"T_31abbf6a_25c4_11ea_8d83_00215cf14861level0_row5\" class=\"row_heading level0 row5\" >5</th> \n",
       "        <td id=\"T_31abbf6a_25c4_11ea_8d83_00215cf14861row5_col0\" class=\"data row5 col0\" >0.491702</td> \n",
       "        <td id=\"T_31abbf6a_25c4_11ea_8d83_00215cf14861row5_col1\" class=\"data row5 col1\" >[ 2.087 19.463]</td> \n",
       "    </tr>    <tr> \n",
       "        <th id=\"T_31abbf6a_25c4_11ea_8d83_00215cf14861level0_row6\" class=\"row_heading level0 row6\" >6</th> \n",
       "        <td id=\"T_31abbf6a_25c4_11ea_8d83_00215cf14861row6_col0\" class=\"data row6 col0\" >0.355763</td> \n",
       "        <td id=\"T_31abbf6a_25c4_11ea_8d83_00215cf14861row6_col1\" class=\"data row6 col1\" >[  3.321 245.181]</td> \n",
       "    </tr>    <tr> \n",
       "        <th id=\"T_31abbf6a_25c4_11ea_8d83_00215cf14861level0_row7\" class=\"row_heading level0 row7\" >7</th> \n",
       "        <td id=\"T_31abbf6a_25c4_11ea_8d83_00215cf14861row7_col0\" class=\"data row7 col0\" >0.390489</td> \n",
       "        <td id=\"T_31abbf6a_25c4_11ea_8d83_00215cf14861row7_col1\" class=\"data row7 col1\" >[  3.523 161.628]</td> \n",
       "    </tr>    <tr> \n",
       "        <th id=\"T_31abbf6a_25c4_11ea_8d83_00215cf14861level0_row8\" class=\"row_heading level0 row8\" >8</th> \n",
       "        <td id=\"T_31abbf6a_25c4_11ea_8d83_00215cf14861row8_col0\" class=\"data row8 col0\" >0.380604</td> \n",
       "        <td id=\"T_31abbf6a_25c4_11ea_8d83_00215cf14861row8_col1\" class=\"data row8 col1\" >[  1.649 307.017]</td> \n",
       "    </tr>    <tr> \n",
       "        <th id=\"T_31abbf6a_25c4_11ea_8d83_00215cf14861level0_row9\" class=\"row_heading level0 row9\" >9</th> \n",
       "        <td id=\"T_31abbf6a_25c4_11ea_8d83_00215cf14861row9_col0\" class=\"data row9 col0\" >0.401403</td> \n",
       "        <td id=\"T_31abbf6a_25c4_11ea_8d83_00215cf14861row9_col1\" class=\"data row9 col1\" >[  2.356 508.486]</td> \n",
       "    </tr></tbody> \n",
       "</table> "
      ],
      "text/plain": [
       "<pandas.io.formats.style.Styler at 0x7f2d76fb2588>"
      ]
     },
     "execution_count": 3,
     "metadata": {},
     "output_type": "execute_result"
    }
   ],
   "source": [
    "colnames = ['Fun','x']\n",
    "indnames = [0,1,2,3,4,5,6,7,8,9]\n",
    "nruns = 10\n",
    "default_corrs = pd.DataFrame(columns = colnames, index = indnames)\n",
    "data_dir = '/home/axiezai/lab/brain-scfc/complex_laplacian/data/bh_pearson'\n",
    "for i in np.arange(0,nruns):\n",
    "    #h5_path = path.get_file_path('laplacian_networks/Default{}_BH_corr.h5'.format(i))\n",
    "    h5_path = os.path.join(data_dir,'Default{}_BH_pearson.h5'.format(i))\n",
    "    bh_default = path.read_hdf5(h5_path)\n",
    "    default_corrs.at[i,'Fun'] = -bh_default['fun']\n",
    "    default_corrs.at[i,'x'] = np.round(bh_default['x'],3)\n",
    "    \n",
    "default_corrs.style.apply(functions.highlight_max, subset=pd.IndexSlice[:,'Fun'])"
   ]
  },
  {
   "cell_type": "markdown",
   "metadata": {},
   "source": [
    "Dorsal Attention:"
   ]
  },
  {
   "cell_type": "code",
   "execution_count": 4,
   "metadata": {},
   "outputs": [
    {
     "data": {
      "text/html": [
       "<style  type=\"text/css\" >\n",
       "    #T_3e036dd0_25c4_11ea_8d83_00215cf14861row2_col0 {\n",
       "            background-color:  yellow;\n",
       "        }</style>  \n",
       "<table id=\"T_3e036dd0_25c4_11ea_8d83_00215cf14861\" > \n",
       "<thead>    <tr> \n",
       "        <th class=\"blank level0\" ></th> \n",
       "        <th class=\"col_heading level0 col0\" >Fun</th> \n",
       "        <th class=\"col_heading level0 col1\" >x</th> \n",
       "    </tr></thead> \n",
       "<tbody>    <tr> \n",
       "        <th id=\"T_3e036dd0_25c4_11ea_8d83_00215cf14861level0_row0\" class=\"row_heading level0 row0\" >0</th> \n",
       "        <td id=\"T_3e036dd0_25c4_11ea_8d83_00215cf14861row0_col0\" class=\"data row0 col0\" >0.629611</td> \n",
       "        <td id=\"T_3e036dd0_25c4_11ea_8d83_00215cf14861row0_col1\" class=\"data row0 col1\" >[1.046 1.105]</td> \n",
       "    </tr>    <tr> \n",
       "        <th id=\"T_3e036dd0_25c4_11ea_8d83_00215cf14861level0_row1\" class=\"row_heading level0 row1\" >1</th> \n",
       "        <td id=\"T_3e036dd0_25c4_11ea_8d83_00215cf14861row1_col0\" class=\"data row1 col0\" >0.486005</td> \n",
       "        <td id=\"T_3e036dd0_25c4_11ea_8d83_00215cf14861row1_col1\" class=\"data row1 col1\" >[  0.378 112.134]</td> \n",
       "    </tr>    <tr> \n",
       "        <th id=\"T_3e036dd0_25c4_11ea_8d83_00215cf14861level0_row2\" class=\"row_heading level0 row2\" >2</th> \n",
       "        <td id=\"T_3e036dd0_25c4_11ea_8d83_00215cf14861row2_col0\" class=\"data row2 col0\" >0.691704</td> \n",
       "        <td id=\"T_3e036dd0_25c4_11ea_8d83_00215cf14861row2_col1\" class=\"data row2 col1\" >[ 0.849 47.69 ]</td> \n",
       "    </tr>    <tr> \n",
       "        <th id=\"T_3e036dd0_25c4_11ea_8d83_00215cf14861level0_row3\" class=\"row_heading level0 row3\" >3</th> \n",
       "        <td id=\"T_3e036dd0_25c4_11ea_8d83_00215cf14861row3_col0\" class=\"data row3 col0\" >0.639398</td> \n",
       "        <td id=\"T_3e036dd0_25c4_11ea_8d83_00215cf14861row3_col1\" class=\"data row3 col1\" >[  2.274 179.263]</td> \n",
       "    </tr>    <tr> \n",
       "        <th id=\"T_3e036dd0_25c4_11ea_8d83_00215cf14861level0_row4\" class=\"row_heading level0 row4\" >4</th> \n",
       "        <td id=\"T_3e036dd0_25c4_11ea_8d83_00215cf14861row4_col0\" class=\"data row4 col0\" >0.446717</td> \n",
       "        <td id=\"T_3e036dd0_25c4_11ea_8d83_00215cf14861row4_col1\" class=\"data row4 col1\" >[  4.868 419.578]</td> \n",
       "    </tr>    <tr> \n",
       "        <th id=\"T_3e036dd0_25c4_11ea_8d83_00215cf14861level0_row5\" class=\"row_heading level0 row5\" >5</th> \n",
       "        <td id=\"T_3e036dd0_25c4_11ea_8d83_00215cf14861row5_col0\" class=\"data row5 col0\" >0.584564</td> \n",
       "        <td id=\"T_3e036dd0_25c4_11ea_8d83_00215cf14861row5_col1\" class=\"data row5 col1\" >[ 0.975 11.447]</td> \n",
       "    </tr>    <tr> \n",
       "        <th id=\"T_3e036dd0_25c4_11ea_8d83_00215cf14861level0_row6\" class=\"row_heading level0 row6\" >6</th> \n",
       "        <td id=\"T_3e036dd0_25c4_11ea_8d83_00215cf14861row6_col0\" class=\"data row6 col0\" >0.486594</td> \n",
       "        <td id=\"T_3e036dd0_25c4_11ea_8d83_00215cf14861row6_col1\" class=\"data row6 col1\" >[  4.711 239.105]</td> \n",
       "    </tr>    <tr> \n",
       "        <th id=\"T_3e036dd0_25c4_11ea_8d83_00215cf14861level0_row7\" class=\"row_heading level0 row7\" >7</th> \n",
       "        <td id=\"T_3e036dd0_25c4_11ea_8d83_00215cf14861row7_col0\" class=\"data row7 col0\" >0.499907</td> \n",
       "        <td id=\"T_3e036dd0_25c4_11ea_8d83_00215cf14861row7_col1\" class=\"data row7 col1\" >[  2.643 159.925]</td> \n",
       "    </tr>    <tr> \n",
       "        <th id=\"T_3e036dd0_25c4_11ea_8d83_00215cf14861level0_row8\" class=\"row_heading level0 row8\" >8</th> \n",
       "        <td id=\"T_3e036dd0_25c4_11ea_8d83_00215cf14861row8_col0\" class=\"data row8 col0\" >0.471777</td> \n",
       "        <td id=\"T_3e036dd0_25c4_11ea_8d83_00215cf14861row8_col1\" class=\"data row8 col1\" >[  2.087 309.605]</td> \n",
       "    </tr>    <tr> \n",
       "        <th id=\"T_3e036dd0_25c4_11ea_8d83_00215cf14861level0_row9\" class=\"row_heading level0 row9\" >9</th> \n",
       "        <td id=\"T_3e036dd0_25c4_11ea_8d83_00215cf14861row9_col0\" class=\"data row9 col0\" >0.582978</td> \n",
       "        <td id=\"T_3e036dd0_25c4_11ea_8d83_00215cf14861row9_col1\" class=\"data row9 col1\" >[  2.084 497.04 ]</td> \n",
       "    </tr></tbody> \n",
       "</table> "
      ],
      "text/plain": [
       "<pandas.io.formats.style.Styler at 0x7f2da87fc9e8>"
      ]
     },
     "execution_count": 4,
     "metadata": {},
     "output_type": "execute_result"
    }
   ],
   "source": [
    "dorsal_corrs = pd.DataFrame(columns = colnames, index = indnames)\n",
    "\n",
    "for i in np.arange(0,nruns):\n",
    "    h5_path = os.path.join(data_dir, 'Dorsal_Attention{}_BH_pearson.h5'.format(i))\n",
    "    bh_dorsal = path.read_hdf5(h5_path)\n",
    "    dorsal_corrs.at[i,'Fun'] = -bh_dorsal['fun']\n",
    "    dorsal_corrs.at[i,'x'] = np.round(bh_dorsal['x'],3)\n",
    "\n",
    "dorsal_corrs.style.apply(functions.highlight_max, subset=pd.IndexSlice[:,'Fun'])"
   ]
  },
  {
   "cell_type": "markdown",
   "metadata": {},
   "source": [
    "Frontoparietal:"
   ]
  },
  {
   "cell_type": "code",
   "execution_count": 5,
   "metadata": {},
   "outputs": [
    {
     "data": {
      "text/html": [
       "<style  type=\"text/css\" >\n",
       "    #T_4b905562_25c4_11ea_8d83_00215cf14861row0_col0 {\n",
       "            background-color:  yellow;\n",
       "        }</style>  \n",
       "<table id=\"T_4b905562_25c4_11ea_8d83_00215cf14861\" > \n",
       "<thead>    <tr> \n",
       "        <th class=\"blank level0\" ></th> \n",
       "        <th class=\"col_heading level0 col0\" >Fun</th> \n",
       "        <th class=\"col_heading level0 col1\" >x</th> \n",
       "    </tr></thead> \n",
       "<tbody>    <tr> \n",
       "        <th id=\"T_4b905562_25c4_11ea_8d83_00215cf14861level0_row0\" class=\"row_heading level0 row0\" >0</th> \n",
       "        <td id=\"T_4b905562_25c4_11ea_8d83_00215cf14861row0_col0\" class=\"data row0 col0\" >0.693765</td> \n",
       "        <td id=\"T_4b905562_25c4_11ea_8d83_00215cf14861row0_col1\" class=\"data row0 col1\" >[2.742 6.842]</td> \n",
       "    </tr>    <tr> \n",
       "        <th id=\"T_4b905562_25c4_11ea_8d83_00215cf14861level0_row1\" class=\"row_heading level0 row1\" >1</th> \n",
       "        <td id=\"T_4b905562_25c4_11ea_8d83_00215cf14861row1_col0\" class=\"data row1 col0\" >0.519084</td> \n",
       "        <td id=\"T_4b905562_25c4_11ea_8d83_00215cf14861row1_col1\" class=\"data row1 col1\" >[  4.346 100.903]</td> \n",
       "    </tr>    <tr> \n",
       "        <th id=\"T_4b905562_25c4_11ea_8d83_00215cf14861level0_row2\" class=\"row_heading level0 row2\" >2</th> \n",
       "        <td id=\"T_4b905562_25c4_11ea_8d83_00215cf14861row2_col0\" class=\"data row2 col0\" >0.672613</td> \n",
       "        <td id=\"T_4b905562_25c4_11ea_8d83_00215cf14861row2_col1\" class=\"data row2 col1\" >[ 1.557 46.512]</td> \n",
       "    </tr>    <tr> \n",
       "        <th id=\"T_4b905562_25c4_11ea_8d83_00215cf14861level0_row3\" class=\"row_heading level0 row3\" >3</th> \n",
       "        <td id=\"T_4b905562_25c4_11ea_8d83_00215cf14861row3_col0\" class=\"data row3 col0\" >0.61358</td> \n",
       "        <td id=\"T_4b905562_25c4_11ea_8d83_00215cf14861row3_col1\" class=\"data row3 col1\" >[  3.496 204.765]</td> \n",
       "    </tr>    <tr> \n",
       "        <th id=\"T_4b905562_25c4_11ea_8d83_00215cf14861level0_row4\" class=\"row_heading level0 row4\" >4</th> \n",
       "        <td id=\"T_4b905562_25c4_11ea_8d83_00215cf14861row4_col0\" class=\"data row4 col0\" >0.515179</td> \n",
       "        <td id=\"T_4b905562_25c4_11ea_8d83_00215cf14861row4_col1\" class=\"data row4 col1\" >[  3.206 400.98 ]</td> \n",
       "    </tr>    <tr> \n",
       "        <th id=\"T_4b905562_25c4_11ea_8d83_00215cf14861level0_row5\" class=\"row_heading level0 row5\" >5</th> \n",
       "        <td id=\"T_4b905562_25c4_11ea_8d83_00215cf14861row5_col0\" class=\"data row5 col0\" >0.647522</td> \n",
       "        <td id=\"T_4b905562_25c4_11ea_8d83_00215cf14861row5_col1\" class=\"data row5 col1\" >[ 4.734 26.144]</td> \n",
       "    </tr>    <tr> \n",
       "        <th id=\"T_4b905562_25c4_11ea_8d83_00215cf14861level0_row6\" class=\"row_heading level0 row6\" >6</th> \n",
       "        <td id=\"T_4b905562_25c4_11ea_8d83_00215cf14861row6_col0\" class=\"data row6 col0\" >0.552267</td> \n",
       "        <td id=\"T_4b905562_25c4_11ea_8d83_00215cf14861row6_col1\" class=\"data row6 col1\" >[  1.386 247.058]</td> \n",
       "    </tr>    <tr> \n",
       "        <th id=\"T_4b905562_25c4_11ea_8d83_00215cf14861level0_row7\" class=\"row_heading level0 row7\" >7</th> \n",
       "        <td id=\"T_4b905562_25c4_11ea_8d83_00215cf14861row7_col0\" class=\"data row7 col0\" >0.594689</td> \n",
       "        <td id=\"T_4b905562_25c4_11ea_8d83_00215cf14861row7_col1\" class=\"data row7 col1\" >[  1.218 144.453]</td> \n",
       "    </tr>    <tr> \n",
       "        <th id=\"T_4b905562_25c4_11ea_8d83_00215cf14861level0_row8\" class=\"row_heading level0 row8\" >8</th> \n",
       "        <td id=\"T_4b905562_25c4_11ea_8d83_00215cf14861row8_col0\" class=\"data row8 col0\" >0.574917</td> \n",
       "        <td id=\"T_4b905562_25c4_11ea_8d83_00215cf14861row8_col1\" class=\"data row8 col1\" >[  3.227 475.485]</td> \n",
       "    </tr>    <tr> \n",
       "        <th id=\"T_4b905562_25c4_11ea_8d83_00215cf14861level0_row9\" class=\"row_heading level0 row9\" >9</th> \n",
       "        <td id=\"T_4b905562_25c4_11ea_8d83_00215cf14861row9_col0\" class=\"data row9 col0\" >0.567731</td> \n",
       "        <td id=\"T_4b905562_25c4_11ea_8d83_00215cf14861row9_col1\" class=\"data row9 col1\" >[  3.103 488.001]</td> \n",
       "    </tr></tbody> \n",
       "</table> "
      ],
      "text/plain": [
       "<pandas.io.formats.style.Styler at 0x7f2d76f570f0>"
      ]
     },
     "execution_count": 5,
     "metadata": {},
     "output_type": "execute_result"
    }
   ],
   "source": [
    "front_corrs = pd.DataFrame(columns = colnames, index = indnames)\n",
    "\n",
    "for i in np.arange(0,nruns):\n",
    "    h5_path = os.path.join(data_dir, 'Frontoparietal{}_BH_pearson.h5'.format(i))\n",
    "    bh_front = path.read_hdf5(h5_path)\n",
    "    front_corrs.at[i,'Fun'] = -bh_front['fun']\n",
    "    front_corrs.at[i,'x'] = np.round(bh_front['x'],3)\n",
    "\n",
    "front_corrs.style.apply(functions.highlight_max, subset=pd.IndexSlice[:,'Fun'])"
   ]
  },
  {
   "cell_type": "markdown",
   "metadata": {},
   "source": [
    "Limbic:"
   ]
  },
  {
   "cell_type": "code",
   "execution_count": 6,
   "metadata": {},
   "outputs": [
    {
     "data": {
      "text/html": [
       "<style  type=\"text/css\" >\n",
       "    #T_50ccea9a_25c4_11ea_8d83_00215cf14861row1_col0 {\n",
       "            background-color:  yellow;\n",
       "        }</style>  \n",
       "<table id=\"T_50ccea9a_25c4_11ea_8d83_00215cf14861\" > \n",
       "<thead>    <tr> \n",
       "        <th class=\"blank level0\" ></th> \n",
       "        <th class=\"col_heading level0 col0\" >Fun</th> \n",
       "        <th class=\"col_heading level0 col1\" >x</th> \n",
       "    </tr></thead> \n",
       "<tbody>    <tr> \n",
       "        <th id=\"T_50ccea9a_25c4_11ea_8d83_00215cf14861level0_row0\" class=\"row_heading level0 row0\" >0</th> \n",
       "        <td id=\"T_50ccea9a_25c4_11ea_8d83_00215cf14861row0_col0\" class=\"data row0 col0\" >0.535379</td> \n",
       "        <td id=\"T_50ccea9a_25c4_11ea_8d83_00215cf14861row0_col1\" class=\"data row0 col1\" >[0.724 2.055]</td> \n",
       "    </tr>    <tr> \n",
       "        <th id=\"T_50ccea9a_25c4_11ea_8d83_00215cf14861level0_row1\" class=\"row_heading level0 row1\" >1</th> \n",
       "        <td id=\"T_50ccea9a_25c4_11ea_8d83_00215cf14861row1_col0\" class=\"data row1 col0\" >0.597222</td> \n",
       "        <td id=\"T_50ccea9a_25c4_11ea_8d83_00215cf14861row1_col1\" class=\"data row1 col1\" >[  2.986 102.203]</td> \n",
       "    </tr>    <tr> \n",
       "        <th id=\"T_50ccea9a_25c4_11ea_8d83_00215cf14861level0_row2\" class=\"row_heading level0 row2\" >2</th> \n",
       "        <td id=\"T_50ccea9a_25c4_11ea_8d83_00215cf14861row2_col0\" class=\"data row2 col0\" >0.530346</td> \n",
       "        <td id=\"T_50ccea9a_25c4_11ea_8d83_00215cf14861row2_col1\" class=\"data row2 col1\" >[ 3.881 52.475]</td> \n",
       "    </tr>    <tr> \n",
       "        <th id=\"T_50ccea9a_25c4_11ea_8d83_00215cf14861level0_row3\" class=\"row_heading level0 row3\" >3</th> \n",
       "        <td id=\"T_50ccea9a_25c4_11ea_8d83_00215cf14861row3_col0\" class=\"data row3 col0\" >0.506429</td> \n",
       "        <td id=\"T_50ccea9a_25c4_11ea_8d83_00215cf14861row3_col1\" class=\"data row3 col1\" >[  2.029 190.539]</td> \n",
       "    </tr>    <tr> \n",
       "        <th id=\"T_50ccea9a_25c4_11ea_8d83_00215cf14861level0_row4\" class=\"row_heading level0 row4\" >4</th> \n",
       "        <td id=\"T_50ccea9a_25c4_11ea_8d83_00215cf14861row4_col0\" class=\"data row4 col0\" >0.415529</td> \n",
       "        <td id=\"T_50ccea9a_25c4_11ea_8d83_00215cf14861row4_col1\" class=\"data row4 col1\" >[  3.254 410.67 ]</td> \n",
       "    </tr>    <tr> \n",
       "        <th id=\"T_50ccea9a_25c4_11ea_8d83_00215cf14861level0_row5\" class=\"row_heading level0 row5\" >5</th> \n",
       "        <td id=\"T_50ccea9a_25c4_11ea_8d83_00215cf14861row5_col0\" class=\"data row5 col0\" >0.549253</td> \n",
       "        <td id=\"T_50ccea9a_25c4_11ea_8d83_00215cf14861row5_col1\" class=\"data row5 col1\" >[ 3.386 38.167]</td> \n",
       "    </tr>    <tr> \n",
       "        <th id=\"T_50ccea9a_25c4_11ea_8d83_00215cf14861level0_row6\" class=\"row_heading level0 row6\" >6</th> \n",
       "        <td id=\"T_50ccea9a_25c4_11ea_8d83_00215cf14861row6_col0\" class=\"data row6 col0\" >0.473395</td> \n",
       "        <td id=\"T_50ccea9a_25c4_11ea_8d83_00215cf14861row6_col1\" class=\"data row6 col1\" >[  3.309 243.469]</td> \n",
       "    </tr>    <tr> \n",
       "        <th id=\"T_50ccea9a_25c4_11ea_8d83_00215cf14861level0_row7\" class=\"row_heading level0 row7\" >7</th> \n",
       "        <td id=\"T_50ccea9a_25c4_11ea_8d83_00215cf14861row7_col0\" class=\"data row7 col0\" >0.460191</td> \n",
       "        <td id=\"T_50ccea9a_25c4_11ea_8d83_00215cf14861row7_col1\" class=\"data row7 col1\" >[  1.936 142.897]</td> \n",
       "    </tr>    <tr> \n",
       "        <th id=\"T_50ccea9a_25c4_11ea_8d83_00215cf14861level0_row8\" class=\"row_heading level0 row8\" >8</th> \n",
       "        <td id=\"T_50ccea9a_25c4_11ea_8d83_00215cf14861row8_col0\" class=\"data row8 col0\" >0.430986</td> \n",
       "        <td id=\"T_50ccea9a_25c4_11ea_8d83_00215cf14861row8_col1\" class=\"data row8 col1\" >[  3.396 296.867]</td> \n",
       "    </tr>    <tr> \n",
       "        <th id=\"T_50ccea9a_25c4_11ea_8d83_00215cf14861level0_row9\" class=\"row_heading level0 row9\" >9</th> \n",
       "        <td id=\"T_50ccea9a_25c4_11ea_8d83_00215cf14861row9_col0\" class=\"data row9 col0\" >0.405878</td> \n",
       "        <td id=\"T_50ccea9a_25c4_11ea_8d83_00215cf14861row9_col1\" class=\"data row9 col1\" >[  1.873 512.473]</td> \n",
       "    </tr></tbody> \n",
       "</table> "
      ],
      "text/plain": [
       "<pandas.io.formats.style.Styler at 0x7f2d76ecd550>"
      ]
     },
     "execution_count": 6,
     "metadata": {},
     "output_type": "execute_result"
    }
   ],
   "source": [
    " limbic_corrs = pd.DataFrame(columns = colnames, index = indnames)\n",
    "\n",
    "for i in np.arange(0,nruns):\n",
    "    #h5_path = path.get_file_path('laplacian_networks/Limbic{}_BH_corr.h5'.format(i))\n",
    "    h5_path = os.path.join(data_dir, 'Limbic{}_BH_pearson.h5'.format(i))\n",
    "    bh_limbic = path.read_hdf5(h5_path)\n",
    "    limbic_corrs.at[i,'Fun'] = -bh_limbic['fun']\n",
    "    limbic_corrs.at[i,'x'] = np.round(bh_limbic['x'],3)\n",
    "\n",
    "limbic_corrs.style.apply(functions.highlight_max, subset=pd.IndexSlice[:,'Fun']) # in case of a draw, take lowest reconstruction error"
   ]
  },
  {
   "cell_type": "markdown",
   "metadata": {},
   "source": [
    "Somatomotor:"
   ]
  },
  {
   "cell_type": "code",
   "execution_count": 8,
   "metadata": {},
   "outputs": [
    {
     "data": {
      "text/html": [
       "<style  type=\"text/css\" >\n",
       "    #T_676c03c6_25c4_11ea_8d83_00215cf14861row5_col0 {\n",
       "            background-color:  yellow;\n",
       "        }</style>  \n",
       "<table id=\"T_676c03c6_25c4_11ea_8d83_00215cf14861\" > \n",
       "<thead>    <tr> \n",
       "        <th class=\"blank level0\" ></th> \n",
       "        <th class=\"col_heading level0 col0\" >Fun</th> \n",
       "        <th class=\"col_heading level0 col1\" >x</th> \n",
       "    </tr></thead> \n",
       "<tbody>    <tr> \n",
       "        <th id=\"T_676c03c6_25c4_11ea_8d83_00215cf14861level0_row0\" class=\"row_heading level0 row0\" >0</th> \n",
       "        <td id=\"T_676c03c6_25c4_11ea_8d83_00215cf14861row0_col0\" class=\"data row0 col0\" >0.63894</td> \n",
       "        <td id=\"T_676c03c6_25c4_11ea_8d83_00215cf14861row0_col1\" class=\"data row0 col1\" >[1.114 2.605]</td> \n",
       "    </tr>    <tr> \n",
       "        <th id=\"T_676c03c6_25c4_11ea_8d83_00215cf14861level0_row1\" class=\"row_heading level0 row1\" >1</th> \n",
       "        <td id=\"T_676c03c6_25c4_11ea_8d83_00215cf14861row1_col0\" class=\"data row1 col0\" >0.496452</td> \n",
       "        <td id=\"T_676c03c6_25c4_11ea_8d83_00215cf14861row1_col1\" class=\"data row1 col1\" >[  3.843 103.424]</td> \n",
       "    </tr>    <tr> \n",
       "        <th id=\"T_676c03c6_25c4_11ea_8d83_00215cf14861level0_row2\" class=\"row_heading level0 row2\" >2</th> \n",
       "        <td id=\"T_676c03c6_25c4_11ea_8d83_00215cf14861row2_col0\" class=\"data row2 col0\" >0.55426</td> \n",
       "        <td id=\"T_676c03c6_25c4_11ea_8d83_00215cf14861row2_col1\" class=\"data row2 col1\" >[ 4.659 47.311]</td> \n",
       "    </tr>    <tr> \n",
       "        <th id=\"T_676c03c6_25c4_11ea_8d83_00215cf14861level0_row3\" class=\"row_heading level0 row3\" >3</th> \n",
       "        <td id=\"T_676c03c6_25c4_11ea_8d83_00215cf14861row3_col0\" class=\"data row3 col0\" >0.508369</td> \n",
       "        <td id=\"T_676c03c6_25c4_11ea_8d83_00215cf14861row3_col1\" class=\"data row3 col1\" >[1.1000e-02 1.7886e+02]</td> \n",
       "    </tr>    <tr> \n",
       "        <th id=\"T_676c03c6_25c4_11ea_8d83_00215cf14861level0_row4\" class=\"row_heading level0 row4\" >4</th> \n",
       "        <td id=\"T_676c03c6_25c4_11ea_8d83_00215cf14861row4_col0\" class=\"data row4 col0\" >0.424526</td> \n",
       "        <td id=\"T_676c03c6_25c4_11ea_8d83_00215cf14861row4_col1\" class=\"data row4 col1\" >[  1.549 390.078]</td> \n",
       "    </tr>    <tr> \n",
       "        <th id=\"T_676c03c6_25c4_11ea_8d83_00215cf14861level0_row5\" class=\"row_heading level0 row5\" >5</th> \n",
       "        <td id=\"T_676c03c6_25c4_11ea_8d83_00215cf14861row5_col0\" class=\"data row5 col0\" >0.63894</td> \n",
       "        <td id=\"T_676c03c6_25c4_11ea_8d83_00215cf14861row5_col1\" class=\"data row5 col1\" >[0.284 2.605]</td> \n",
       "    </tr>    <tr> \n",
       "        <th id=\"T_676c03c6_25c4_11ea_8d83_00215cf14861level0_row6\" class=\"row_heading level0 row6\" >6</th> \n",
       "        <td id=\"T_676c03c6_25c4_11ea_8d83_00215cf14861row6_col0\" class=\"data row6 col0\" >0.420949</td> \n",
       "        <td id=\"T_676c03c6_25c4_11ea_8d83_00215cf14861row6_col1\" class=\"data row6 col1\" >[  2.351 235.695]</td> \n",
       "    </tr>    <tr> \n",
       "        <th id=\"T_676c03c6_25c4_11ea_8d83_00215cf14861level0_row7\" class=\"row_heading level0 row7\" >7</th> \n",
       "        <td id=\"T_676c03c6_25c4_11ea_8d83_00215cf14861row7_col0\" class=\"data row7 col0\" >0.448501</td> \n",
       "        <td id=\"T_676c03c6_25c4_11ea_8d83_00215cf14861row7_col1\" class=\"data row7 col1\" >[  0.839 148.487]</td> \n",
       "    </tr>    <tr> \n",
       "        <th id=\"T_676c03c6_25c4_11ea_8d83_00215cf14861level0_row8\" class=\"row_heading level0 row8\" >8</th> \n",
       "        <td id=\"T_676c03c6_25c4_11ea_8d83_00215cf14861row8_col0\" class=\"data row8 col0\" >0.35006</td> \n",
       "        <td id=\"T_676c03c6_25c4_11ea_8d83_00215cf14861row8_col1\" class=\"data row8 col1\" >[  2.    294.811]</td> \n",
       "    </tr>    <tr> \n",
       "        <th id=\"T_676c03c6_25c4_11ea_8d83_00215cf14861level0_row9\" class=\"row_heading level0 row9\" >9</th> \n",
       "        <td id=\"T_676c03c6_25c4_11ea_8d83_00215cf14861row9_col0\" class=\"data row9 col0\" >0.387576</td> \n",
       "        <td id=\"T_676c03c6_25c4_11ea_8d83_00215cf14861row9_col1\" class=\"data row9 col1\" >[  4.324 483.573]</td> \n",
       "    </tr></tbody> \n",
       "</table> "
      ],
      "text/plain": [
       "<pandas.io.formats.style.Styler at 0x7f2d76fb2ef0>"
      ]
     },
     "execution_count": 8,
     "metadata": {},
     "output_type": "execute_result"
    }
   ],
   "source": [
    " motor_corrs = pd.DataFrame(columns = colnames, index = indnames)\n",
    "\n",
    "for i in np.arange(0,nruns):\n",
    "    h5_path = os.path.join(data_dir, 'Somatomotor{}_BH_pearson.h5'.format(i))\n",
    "    bh_motor = path.read_hdf5(h5_path)\n",
    "    motor_corrs.at[i,'Fun'] = -bh_motor['fun']\n",
    "    motor_corrs.at[i,'x'] = np.round(bh_motor['x'],3)\n",
    "\n",
    "motor_corrs.style.apply(functions.highlight_max, subset=pd.IndexSlice[:,'Fun']) # in case of a draw, take lowest reconstruction error"
   ]
  },
  {
   "cell_type": "markdown",
   "metadata": {},
   "source": [
    "Ventral Attention:"
   ]
  },
  {
   "cell_type": "code",
   "execution_count": 9,
   "metadata": {},
   "outputs": [
    {
     "data": {
      "text/html": [
       "<style  type=\"text/css\" >\n",
       "    #T_84dfc258_25c4_11ea_8d83_00215cf14861row5_col0 {\n",
       "            background-color:  yellow;\n",
       "        }</style>  \n",
       "<table id=\"T_84dfc258_25c4_11ea_8d83_00215cf14861\" > \n",
       "<thead>    <tr> \n",
       "        <th class=\"blank level0\" ></th> \n",
       "        <th class=\"col_heading level0 col0\" >Fun</th> \n",
       "        <th class=\"col_heading level0 col1\" >x</th> \n",
       "    </tr></thead> \n",
       "<tbody>    <tr> \n",
       "        <th id=\"T_84dfc258_25c4_11ea_8d83_00215cf14861level0_row0\" class=\"row_heading level0 row0\" >0</th> \n",
       "        <td id=\"T_84dfc258_25c4_11ea_8d83_00215cf14861row0_col0\" class=\"data row0 col0\" >0.443189</td> \n",
       "        <td id=\"T_84dfc258_25c4_11ea_8d83_00215cf14861row0_col1\" class=\"data row0 col1\" >[0.567 5.532]</td> \n",
       "    </tr>    <tr> \n",
       "        <th id=\"T_84dfc258_25c4_11ea_8d83_00215cf14861level0_row1\" class=\"row_heading level0 row1\" >1</th> \n",
       "        <td id=\"T_84dfc258_25c4_11ea_8d83_00215cf14861row1_col0\" class=\"data row1 col0\" >0.411382</td> \n",
       "        <td id=\"T_84dfc258_25c4_11ea_8d83_00215cf14861row1_col1\" class=\"data row1 col1\" >[  3.07  101.159]</td> \n",
       "    </tr>    <tr> \n",
       "        <th id=\"T_84dfc258_25c4_11ea_8d83_00215cf14861level0_row2\" class=\"row_heading level0 row2\" >2</th> \n",
       "        <td id=\"T_84dfc258_25c4_11ea_8d83_00215cf14861row2_col0\" class=\"data row2 col0\" >0.384115</td> \n",
       "        <td id=\"T_84dfc258_25c4_11ea_8d83_00215cf14861row2_col1\" class=\"data row2 col1\" >[ 1.527 43.502]</td> \n",
       "    </tr>    <tr> \n",
       "        <th id=\"T_84dfc258_25c4_11ea_8d83_00215cf14861level0_row3\" class=\"row_heading level0 row3\" >3</th> \n",
       "        <td id=\"T_84dfc258_25c4_11ea_8d83_00215cf14861row3_col0\" class=\"data row3 col0\" >0.411382</td> \n",
       "        <td id=\"T_84dfc258_25c4_11ea_8d83_00215cf14861row3_col1\" class=\"data row3 col1\" >[  3.725 101.159]</td> \n",
       "    </tr>    <tr> \n",
       "        <th id=\"T_84dfc258_25c4_11ea_8d83_00215cf14861level0_row4\" class=\"row_heading level0 row4\" >4</th> \n",
       "        <td id=\"T_84dfc258_25c4_11ea_8d83_00215cf14861row4_col0\" class=\"data row4 col0\" >0.319676</td> \n",
       "        <td id=\"T_84dfc258_25c4_11ea_8d83_00215cf14861row4_col1\" class=\"data row4 col1\" >[  2.496 397.227]</td> \n",
       "    </tr>    <tr> \n",
       "        <th id=\"T_84dfc258_25c4_11ea_8d83_00215cf14861level0_row5\" class=\"row_heading level0 row5\" >5</th> \n",
       "        <td id=\"T_84dfc258_25c4_11ea_8d83_00215cf14861row5_col0\" class=\"data row5 col0\" >0.443189</td> \n",
       "        <td id=\"T_84dfc258_25c4_11ea_8d83_00215cf14861row5_col1\" class=\"data row5 col1\" >[2.732 5.532]</td> \n",
       "    </tr>    <tr> \n",
       "        <th id=\"T_84dfc258_25c4_11ea_8d83_00215cf14861level0_row6\" class=\"row_heading level0 row6\" >6</th> \n",
       "        <td id=\"T_84dfc258_25c4_11ea_8d83_00215cf14861row6_col0\" class=\"data row6 col0\" >0.400257</td> \n",
       "        <td id=\"T_84dfc258_25c4_11ea_8d83_00215cf14861row6_col1\" class=\"data row6 col1\" >[  1.784 223.801]</td> \n",
       "    </tr>    <tr> \n",
       "        <th id=\"T_84dfc258_25c4_11ea_8d83_00215cf14861level0_row7\" class=\"row_heading level0 row7\" >7</th> \n",
       "        <td id=\"T_84dfc258_25c4_11ea_8d83_00215cf14861row7_col0\" class=\"data row7 col0\" >0.372266</td> \n",
       "        <td id=\"T_84dfc258_25c4_11ea_8d83_00215cf14861row7_col1\" class=\"data row7 col1\" >[  2.038 154.527]</td> \n",
       "    </tr>    <tr> \n",
       "        <th id=\"T_84dfc258_25c4_11ea_8d83_00215cf14861level0_row8\" class=\"row_heading level0 row8\" >8</th> \n",
       "        <td id=\"T_84dfc258_25c4_11ea_8d83_00215cf14861row8_col0\" class=\"data row8 col0\" >0.346343</td> \n",
       "        <td id=\"T_84dfc258_25c4_11ea_8d83_00215cf14861row8_col1\" class=\"data row8 col1\" >[  3.285 297.147]</td> \n",
       "    </tr>    <tr> \n",
       "        <th id=\"T_84dfc258_25c4_11ea_8d83_00215cf14861level0_row9\" class=\"row_heading level0 row9\" >9</th> \n",
       "        <td id=\"T_84dfc258_25c4_11ea_8d83_00215cf14861row9_col0\" class=\"data row9 col0\" >0.382192</td> \n",
       "        <td id=\"T_84dfc258_25c4_11ea_8d83_00215cf14861row9_col1\" class=\"data row9 col1\" >[  0.85  506.024]</td> \n",
       "    </tr></tbody> \n",
       "</table> "
      ],
      "text/plain": [
       "<pandas.io.formats.style.Styler at 0x7f2d76ecca90>"
      ]
     },
     "execution_count": 9,
     "metadata": {},
     "output_type": "execute_result"
    }
   ],
   "source": [
    " ventral_corrs = pd.DataFrame(columns = colnames, index = indnames)\n",
    "\n",
    "for i in np.arange(0,nruns):\n",
    "    #h5_path = path.get_file_path('laplacian_networks/v1_3parameters/Ventral_Attention{}_BH_corr.h5'.format(i))\n",
    "    h5_path = os.path.join(data_dir, 'Ventral_Attention{}_BH_pearson.h5'.format(i))\n",
    "    bh_ventral = path.read_hdf5(h5_path)\n",
    "    ventral_corrs.at[i,'Fun'] = -bh_ventral['fun']\n",
    "    ventral_corrs.at[i,'x'] = np.round(bh_ventral['x'],3)\n",
    "\n",
    "ventral_corrs.style.apply(functions.highlight_max, subset=pd.IndexSlice[:,'Fun']) # in case of a draw, take lowest reconstruction error"
   ]
  },
  {
   "cell_type": "markdown",
   "metadata": {},
   "source": [
    "Visual:"
   ]
  },
  {
   "cell_type": "code",
   "execution_count": 10,
   "metadata": {},
   "outputs": [
    {
     "data": {
      "text/html": [
       "<style  type=\"text/css\" >\n",
       "    #T_9a682b60_25c4_11ea_8d83_00215cf14861row7_col0 {\n",
       "            background-color:  yellow;\n",
       "        }</style>  \n",
       "<table id=\"T_9a682b60_25c4_11ea_8d83_00215cf14861\" > \n",
       "<thead>    <tr> \n",
       "        <th class=\"blank level0\" ></th> \n",
       "        <th class=\"col_heading level0 col0\" >Fun</th> \n",
       "        <th class=\"col_heading level0 col1\" >x</th> \n",
       "    </tr></thead> \n",
       "<tbody>    <tr> \n",
       "        <th id=\"T_9a682b60_25c4_11ea_8d83_00215cf14861level0_row0\" class=\"row_heading level0 row0\" >0</th> \n",
       "        <td id=\"T_9a682b60_25c4_11ea_8d83_00215cf14861row0_col0\" class=\"data row0 col0\" >0.661795</td> \n",
       "        <td id=\"T_9a682b60_25c4_11ea_8d83_00215cf14861row0_col1\" class=\"data row0 col1\" >[ 0.203 13.138]</td> \n",
       "    </tr>    <tr> \n",
       "        <th id=\"T_9a682b60_25c4_11ea_8d83_00215cf14861level0_row1\" class=\"row_heading level0 row1\" >1</th> \n",
       "        <td id=\"T_9a682b60_25c4_11ea_8d83_00215cf14861row1_col0\" class=\"data row1 col0\" >0.661795</td> \n",
       "        <td id=\"T_9a682b60_25c4_11ea_8d83_00215cf14861row1_col1\" class=\"data row1 col1\" >[ 2.309 13.138]</td> \n",
       "    </tr>    <tr> \n",
       "        <th id=\"T_9a682b60_25c4_11ea_8d83_00215cf14861level0_row2\" class=\"row_heading level0 row2\" >2</th> \n",
       "        <td id=\"T_9a682b60_25c4_11ea_8d83_00215cf14861row2_col0\" class=\"data row2 col0\" >0.68359</td> \n",
       "        <td id=\"T_9a682b60_25c4_11ea_8d83_00215cf14861row2_col1\" class=\"data row2 col1\" >[ 3.197 63.89 ]</td> \n",
       "    </tr>    <tr> \n",
       "        <th id=\"T_9a682b60_25c4_11ea_8d83_00215cf14861level0_row3\" class=\"row_heading level0 row3\" >3</th> \n",
       "        <td id=\"T_9a682b60_25c4_11ea_8d83_00215cf14861row3_col0\" class=\"data row3 col0\" >0.538727</td> \n",
       "        <td id=\"T_9a682b60_25c4_11ea_8d83_00215cf14861row3_col1\" class=\"data row3 col1\" >[  4.767 214.33 ]</td> \n",
       "    </tr>    <tr> \n",
       "        <th id=\"T_9a682b60_25c4_11ea_8d83_00215cf14861level0_row4\" class=\"row_heading level0 row4\" >4</th> \n",
       "        <td id=\"T_9a682b60_25c4_11ea_8d83_00215cf14861row4_col0\" class=\"data row4 col0\" >0.444737</td> \n",
       "        <td id=\"T_9a682b60_25c4_11ea_8d83_00215cf14861row4_col1\" class=\"data row4 col1\" >[  1.142 385.369]</td> \n",
       "    </tr>    <tr> \n",
       "        <th id=\"T_9a682b60_25c4_11ea_8d83_00215cf14861level0_row5\" class=\"row_heading level0 row5\" >5</th> \n",
       "        <td id=\"T_9a682b60_25c4_11ea_8d83_00215cf14861row5_col0\" class=\"data row5 col0\" >0.661795</td> \n",
       "        <td id=\"T_9a682b60_25c4_11ea_8d83_00215cf14861row5_col1\" class=\"data row5 col1\" >[ 0.725 13.138]</td> \n",
       "    </tr>    <tr> \n",
       "        <th id=\"T_9a682b60_25c4_11ea_8d83_00215cf14861level0_row6\" class=\"row_heading level0 row6\" >6</th> \n",
       "        <td id=\"T_9a682b60_25c4_11ea_8d83_00215cf14861row6_col0\" class=\"data row6 col0\" >0.662495</td> \n",
       "        <td id=\"T_9a682b60_25c4_11ea_8d83_00215cf14861row6_col1\" class=\"data row6 col1\" >[  3.721 249.791]</td> \n",
       "    </tr>    <tr> \n",
       "        <th id=\"T_9a682b60_25c4_11ea_8d83_00215cf14861level0_row7\" class=\"row_heading level0 row7\" >7</th> \n",
       "        <td id=\"T_9a682b60_25c4_11ea_8d83_00215cf14861row7_col0\" class=\"data row7 col0\" >0.766489</td> \n",
       "        <td id=\"T_9a682b60_25c4_11ea_8d83_00215cf14861row7_col1\" class=\"data row7 col1\" >[  2.387 154.917]</td> \n",
       "    </tr>    <tr> \n",
       "        <th id=\"T_9a682b60_25c4_11ea_8d83_00215cf14861level0_row8\" class=\"row_heading level0 row8\" >8</th> \n",
       "        <td id=\"T_9a682b60_25c4_11ea_8d83_00215cf14861row8_col0\" class=\"data row8 col0\" >0.482653</td> \n",
       "        <td id=\"T_9a682b60_25c4_11ea_8d83_00215cf14861row8_col1\" class=\"data row8 col1\" >[  0.477 288.134]</td> \n",
       "    </tr>    <tr> \n",
       "        <th id=\"T_9a682b60_25c4_11ea_8d83_00215cf14861level0_row9\" class=\"row_heading level0 row9\" >9</th> \n",
       "        <td id=\"T_9a682b60_25c4_11ea_8d83_00215cf14861row9_col0\" class=\"data row9 col0\" >0.458052</td> \n",
       "        <td id=\"T_9a682b60_25c4_11ea_8d83_00215cf14861row9_col1\" class=\"data row9 col1\" >[  1.375 503.175]</td> \n",
       "    </tr></tbody> \n",
       "</table> "
      ],
      "text/plain": [
       "<pandas.io.formats.style.Styler at 0x7f2d76fb2438>"
      ]
     },
     "execution_count": 10,
     "metadata": {},
     "output_type": "execute_result"
    }
   ],
   "source": [
    " visual_corrs = pd.DataFrame(columns = colnames, index = indnames)\n",
    "\n",
    "for i in np.arange(0,nruns):\n",
    "    h5_path = os.path.join(data_dir, 'Visual{}_BH_pearson.h5'.format(i))\n",
    "    bh_visual = path.read_hdf5(h5_path)\n",
    "    visual_corrs.at[i,'Fun'] = -bh_visual['fun']\n",
    "    visual_corrs.at[i,'x'] = np.round(bh_visual['x'],3)\n",
    "\n",
    "visual_corrs.style.apply(functions.highlight_max, subset=pd.IndexSlice[:,'Fun']) # in case of a draw, take lowest reconstruction error"
   ]
  },
  {
   "cell_type": "code",
   "execution_count": null,
   "metadata": {},
   "outputs": [],
   "source": []
  }
 ],
 "metadata": {
  "kernelspec": {
   "display_name": "Python (Spectral)",
   "language": "python",
   "name": "spectral"
  },
  "language_info": {
   "codemirror_mode": {
    "name": "ipython",
    "version": 3
   },
   "file_extension": ".py",
   "mimetype": "text/x-python",
   "name": "python",
   "nbconvert_exporter": "python",
   "pygments_lexer": "ipython3",
   "version": "3.6.8"
  }
 },
 "nbformat": 4,
 "nbformat_minor": 2
}
