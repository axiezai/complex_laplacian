{
 "cells": [
  {
   "cell_type": "markdown",
   "metadata": {},
   "source": [
    "# Comparing canonical functional networks vs. complex structural eigenmodes."
   ]
  },
  {
   "cell_type": "code",
   "execution_count": 1,
   "metadata": {},
   "outputs": [],
   "source": [
    "from ipywidgets import interactive, widgets, fixed\n",
    "from surfer import Brain as surface\n",
    "from sklearn.preprocessing import minmax_scale\n",
    "\n",
    "import os\n",
    "import nibabel as nib\n",
    "import numpy as np\n",
    "import pandas as pd\n",
    "import matplotlib.pyplot as plt\n",
    "\n",
    "# spectrome imports\n",
    "from spectrome.brain import Brain\n",
    "from spectrome.utils import functions, path"
   ]
  },
  {
   "cell_type": "code",
   "execution_count": 2,
   "metadata": {},
   "outputs": [],
   "source": [
    "%gui qt\n",
    "\n",
    "# set up Pysurfer variables\n",
    "subject_id = \"fsaverage\"\n",
    "hemi = [\"lh\",\"rh\"]\n",
    "surf = \"white\"\n",
    "\n",
    "\"\"\"\n",
    "Read in the automatic parcellation of sulci and gyri.\n",
    "\"\"\"\n",
    "\n",
    "hemi_side = \"lh\"\n",
    "aparc_file = os.path.join(os.environ[\"SUBJECTS_DIR\"],\n",
    "                          subject_id, \"label\",\n",
    "                          hemi_side + \".aparc.annot\")\n",
    "labels, ctab, names = nib.freesurfer.read_annot(aparc_file)"
   ]
  },
  {
   "cell_type": "code",
   "execution_count": 3,
   "metadata": {},
   "outputs": [],
   "source": [
    "# function for viewing canonical networks:\n",
    "def get_fc_values(fc_df, labels, fc_name):\n",
    "    # get our data ready in both hemispheres\n",
    "    fc_network = fc_df.loc[fc_name].values\n",
    "    lh_cort = minmax_scale(fc_network[0:34])\n",
    "    rh_cort = minmax_scale(fc_network[34:68])\n",
    "\n",
    "    # for pysurfer requirements\n",
    "    lh_pad = np.insert(lh_cort, [0, 3], [0, 0])\n",
    "    rh_pad = np.insert(rh_cort, [0, 3], [0, 0])\n",
    "\n",
    "    lh_fc = lh_pad[labels]\n",
    "    rh_fc = rh_pad[labels]\n",
    "\n",
    "    fc_brain = surface(\n",
    "        subject_id,\n",
    "        \"both\",\n",
    "        surf,\n",
    "        background=\"white\",\n",
    "        alpha=0.3,\n",
    "        title=\"Canonical Networks\",\n",
    "    )\n",
    "    fc_brain.add_data(lh_fc, hemi=\"lh\", thresh=0.15, colormap=plt.cm.autumn_r, remove_existing=True)\n",
    "    fc_brain.add_data(rh_fc, hemi=\"rh\", thresh=0.15, colormap=plt.cm.autumn_r, remove_existing=True)\n",
    "    fc_brain.scale_data_colormap(color_fmin, color_fmid, color_fmax, transparent=False)\n",
    "    return lh_fc, rh_fc"
   ]
  },
  {
   "cell_type": "code",
   "execution_count": 4,
   "metadata": {},
   "outputs": [],
   "source": [
    "fc_names = [\n",
    "    \"Visual\",\n",
    "    \"Limbic\",\n",
    "    \"Default\",\n",
    "    \"Somatomotor\",\n",
    "    \"Frontoparietal\",\n",
    "    \"Ventral_Attention\",\n",
    "    \"Dorsal_Attention\",\n",
    "]\n",
    "\n",
    "color_fmin, color_fmid, color_fmax = 0.1, 0.5, 0.9\n",
    "\n",
    "# Load Pablo's canonical networks in DK atlas:\n",
    "fc_dk = np.load(\"../data/com_dk.npy\", allow_pickle=True).item()\n",
    "fc_dk_normalized = pd.read_csv(\"../data/DK_dictionary_normalized.csv\").set_index(\n",
    "    \"Unnamed: 0\"\n",
    ")"
   ]
  },
  {
   "cell_type": "code",
   "execution_count": 5,
   "metadata": {},
   "outputs": [
    {
     "name": "stdout",
     "output_type": "stream",
     "text": [
      "colormap sequential: [0.00e+00, 5.00e-01, 1.00e+00] (opaque)\n",
      "colormap sequential: [0.00e+00, 5.00e-01, 1.00e+00] (opaque)\n",
      "colormap sequential: [1.00e-01, 5.00e-01, 9.00e-01] (opaque)\n"
     ]
    }
   ],
   "source": [
    "interactive(\n",
    "    get_fc_values,\n",
    "    fc_df=fixed(fc_dk_normalized),\n",
    "    labels=fixed(labels),\n",
    "    fc_name=widgets.RadioButtons(\n",
    "        options=fc_names, value=\"Limbic\", description=\"Select canonical network\"\n",
    "    ),\n",
    ")"
   ]
  },
  {
   "cell_type": "code",
   "execution_count": 6,
   "metadata": {},
   "outputs": [
    {
     "name": "stdout",
     "output_type": "stream",
     "text": [
      "colormap sequential: [0.00e+00, 5.00e-01, 1.00e+00] (opaque)\n",
      "colormap sequential: [0.00e+00, 5.00e-01, 1.00e+00] (opaque)\n",
      "colormap sequential: [1.00e-01, 5.00e-01, 9.00e-01] (opaque)\n",
      "colormap sequential: [0.00e+00, 5.00e-01, 1.00e+00] (opaque)\n",
      "colormap sequential: [1.00e-01, 5.00e-01, 9.00e-01] (opaque)\n",
      "colormap sequential: [0.00e+00, 5.00e-01, 1.00e+00] (opaque)\n",
      "colormap sequential: [0.00e+00, 5.00e-01, 1.00e+00] (opaque)\n",
      "colormap sequential: [1.00e-01, 5.00e-01, 9.00e-01] (opaque)\n",
      "colormap sequential: [0.00e+00, 5.00e-01, 1.00e+00] (opaque)\n",
      "colormap sequential: [0.00e+00, 5.00e-01, 1.00e+00] (opaque)\n",
      "colormap sequential: [1.00e-01, 5.00e-01, 9.00e-01] (opaque)\n",
      "colormap sequential: [0.00e+00, 5.00e-01, 1.00e+00] (opaque)\n",
      "colormap sequential: [1.00e-01, 5.00e-01, 9.00e-01] (opaque)\n",
      "colormap sequential: [0.00e+00, 5.00e-01, 1.00e+00] (opaque)\n",
      "colormap sequential: [0.00e+00, 5.00e-01, 1.00e+00] (opaque)\n",
      "colormap sequential: [1.00e-01, 5.00e-01, 9.00e-01] (opaque)\n",
      "colormap sequential: [0.00e+00, 5.00e-01, 1.00e+00] (opaque)\n",
      "colormap sequential: [0.00e+00, 5.00e-01, 1.00e+00] (opaque)\n",
      "colormap sequential: [1.00e-01, 5.00e-01, 9.00e-01] (opaque)\n",
      "colormap sequential: [0.00e+00, 5.00e-01, 1.00e+00] (opaque)\n",
      "colormap sequential: [1.00e-01, 5.00e-01, 9.00e-01] (opaque)\n",
      "colormap sequential: [0.00e+00, 5.00e-01, 1.00e+00] (opaque)\n",
      "colormap sequential: [0.00e+00, 5.00e-01, 1.00e+00] (opaque)\n",
      "colormap sequential: [1.00e-01, 5.00e-01, 9.00e-01] (opaque)\n",
      "colormap sequential: [0.00e+00, 5.00e-01, 1.00e+00] (opaque)\n",
      "colormap sequential: [0.00e+00, 5.00e-01, 1.00e+00] (opaque)\n",
      "colormap sequential: [1.00e-01, 5.00e-01, 9.00e-01] (opaque)\n",
      "colormap sequential: [0.00e+00, 5.00e-01, 1.00e+00] (opaque)\n",
      "colormap sequential: [1.00e-01, 5.00e-01, 9.00e-01] (opaque)\n",
      "colormap sequential: [0.00e+00, 5.00e-01, 1.00e+00] (opaque)\n",
      "colormap sequential: [0.00e+00, 5.00e-01, 1.00e+00] (opaque)\n",
      "colormap sequential: [1.00e-01, 5.00e-01, 9.00e-01] (opaque)\n",
      "colormap sequential: [0.00e+00, 5.00e-01, 1.00e+00] (opaque)\n",
      "colormap sequential: [0.00e+00, 5.00e-01, 1.00e+00] (opaque)\n",
      "colormap sequential: [1.00e-01, 5.00e-01, 9.00e-01] (opaque)\n",
      "colormap sequential: [0.00e+00, 5.00e-01, 1.00e+00] (opaque)\n",
      "colormap sequential: [1.00e-01, 5.00e-01, 9.00e-01] (opaque)\n",
      "colormap sequential: [0.00e+00, 5.00e-01, 1.00e+00] (opaque)\n",
      "colormap sequential: [0.00e+00, 5.00e-01, 1.00e+00] (opaque)\n",
      "colormap sequential: [1.00e-01, 5.00e-01, 9.00e-01] (opaque)\n",
      "colormap sequential: [0.00e+00, 5.00e-01, 1.00e+00] (opaque)\n",
      "colormap sequential: [0.00e+00, 5.00e-01, 1.00e+00] (opaque)\n",
      "colormap sequential: [1.00e-01, 5.00e-01, 9.00e-01] (opaque)\n",
      "colormap sequential: [0.00e+00, 5.00e-01, 1.00e+00] (opaque)\n",
      "colormap sequential: [1.00e-01, 5.00e-01, 9.00e-01] (opaque)\n",
      "colormap sequential: [0.00e+00, 5.00e-01, 1.00e+00] (opaque)\n",
      "colormap sequential: [0.00e+00, 5.00e-01, 1.00e+00] (opaque)\n",
      "colormap sequential: [1.00e-01, 5.00e-01, 9.00e-01] (opaque)\n",
      "colormap sequential: [0.00e+00, 5.00e-01, 1.00e+00] (opaque)\n",
      "colormap sequential: [0.00e+00, 5.00e-01, 1.00e+00] (opaque)\n",
      "colormap sequential: [1.00e-01, 5.00e-01, 9.00e-01] (opaque)\n",
      "colormap sequential: [0.00e+00, 5.00e-01, 1.00e+00] (opaque)\n",
      "colormap sequential: [1.00e-01, 5.00e-01, 9.00e-01] (opaque)\n",
      "colormap sequential: [0.00e+00, 5.00e-01, 1.00e+00] (opaque)\n",
      "colormap sequential: [0.00e+00, 5.00e-01, 1.00e+00] (opaque)\n",
      "colormap sequential: [1.00e-01, 5.00e-01, 9.00e-01] (opaque)\n"
     ]
    }
   ],
   "source": [
    "## This for-loop is for generating and saving figures for the paper don't run unless you really want to.\n",
    "## Whatever is being generated here you can get with the interactive widget in the previous cell\n",
    "\n",
    "for names in fc_names:\n",
    "    lh, rh = get_fc_values(fc_dk_normalized, labels = labels, fc_name = names)\n",
    "    # Generate FOV figures for 1 hemisphere first\n",
    "    sb = surface(subject_id, 'lh', surf, background = \"white\", alpha = 1, title = \"Canonical Network\")\n",
    "    sb.add_data(lh, hemi = 'lh', thresh = 0.15, colormap = plt.cm.autumn_r, remove_existing = True)\n",
    "    sb.scale_data_colormap(color_fmin, color_fmid, color_fmax, transparent = False)\n",
    "    sb.show_view('lat')\n",
    "    sb.save_image('%s_lat.svg' % names)\n",
    "    sb.show_view('med')\n",
    "    sb.save_image('%s_med.svg' % names)\n",
    "    # Generate FOV for both hemisphere dorsal view\n",
    "    sb = surface(subject_id, \"both\", surf, background = \"white\", alpha = 1, title = \"Canonical Network\")\n",
    "    sb.add_data(rh, hemi = 'rh', thresh = 0.15, colormap = plt.cm.autumn_r, remove_existing = True)\n",
    "    sb.add_data(lh, hemi = 'lh', thresh = 0.15, colormap = plt.cm.autumn_r, remove_existing = True)\n",
    "    sb.scale_data_colormap(color_fmin, color_fmid, color_fmax, transparent = False)\n",
    "    ## save figures?\n",
    "    sb.show_view('dor')\n",
    "    sb.save_image('%s_dor.svg' % names)"
   ]
  },
  {
   "cell_type": "markdown",
   "metadata": {},
   "source": [
    "### Now we visualize the best matching complex structural eigenmodes for each network"
   ]
  },
  {
   "cell_type": "code",
   "execution_count": 17,
   "metadata": {},
   "outputs": [
    {
     "name": "stdout",
     "output_type": "stream",
     "text": [
      "Default network parameters:[ 2.97 30.41] at R=0.61\n",
      "Doral Attention network parameters:[ 2.6  78.54] at R=0.61\n",
      "Frontoparietal network parameters:[ 2.93 42.27] at R=0.66\n",
      "Limbic network parameters:[ 3.93 74.85] at R=0.56\n",
      "Somatomotor network parameters:[  1. 100.] at R=0.6\n",
      "Ventral Attention network parameters:[ 3.32 60.76] at R=0.58\n",
      "Visual network parameters:[  3.88 249.44] at R=0.62\n"
     ]
    }
   ],
   "source": [
    "## Load the optimized parameters first\n",
    "data_path = \"../data\"\n",
    "h5_path = os.path.join(data_path, \"default.h5\")\n",
    "bh_default = path.read_hdf5(h5_path)\n",
    "print('Default network parameters:' + str(np.round(bh_default['x'],2)) + ' at R=' + str(-np.round(bh_default['fun'],2)))\n",
    "\n",
    "h5_path = os.path.join(data_path, \"dorsal.h5\")\n",
    "bh_dorsal = path.read_hdf5(h5_path)\n",
    "print('Doral Attention network parameters:' + str(np.round(bh_dorsal['x'],2)) + ' at R=' + str(-np.round(bh_dorsal['fun'],2)))\n",
    "\n",
    "h5_path = os.path.join(data_path, \"fronto.h5\")\n",
    "bh_front = path.read_hdf5(h5_path)\n",
    "print('Frontoparietal network parameters:' + str(np.round(bh_front['x'],2)) + ' at R=' + str(-np.round(bh_front['fun'],2)))\n",
    "\n",
    "h5_path = os.path.join(data_path, \"limbic.h5\")\n",
    "bh_limbic = path.read_hdf5(h5_path)\n",
    "print('Limbic network parameters:' + str(np.round(bh_limbic['x'],2)) + ' at R=' + str(-np.round(bh_limbic['fun'],2)))\n",
    "\n",
    "h5_path = os.path.join(data_path, \"motor.h5\")\n",
    "bh_motor = path.read_hdf5(h5_path)\n",
    "print('Somatomotor network parameters:' + str(np.round(bh_motor['x'],2)) + ' at R=' + str(-np.round(bh_motor['fun'],2)))\n",
    "\n",
    "h5_path = os.path.join(data_path, \"ventral.h5\")\n",
    "bh_ventral = path.read_hdf5(h5_path)\n",
    "print('Ventral Attention network parameters:' + str(np.round(bh_ventral['x'],2)) + ' at R=' + str(-np.round(bh_ventral['fun'],2)))\n",
    "\n",
    "h5_path = os.path.join(data_path, \"visual.h5\")\n",
    "bh_visual = path.read_hdf5(h5_path)\n",
    "print('Visual network parameters:' + str(np.round(bh_visual['x'],2)) + ' at R=' + str(-np.round(bh_visual['fun'],2)))"
   ]
  },
  {
   "cell_type": "markdown",
   "metadata": {
    "pycharm": {
     "name": "#%% md\n"
    }
   },
   "source": [
    "Plot networks:"
   ]
  },
  {
   "cell_type": "code",
   "execution_count": 39,
   "metadata": {},
   "outputs": [],
   "source": [
    "from scipy.stats import spearmanr\n",
    "\n",
    "\n",
    "def pysurfer_prep(pysurf_in, labels, atlas=\"DK\"):\n",
    "    scaled_in = minmax_scale(pysurf_in)\n",
    "    if atlas == \"DK\":\n",
    "        padded = np.insert(scaled_in, [0, 3], [0, 0])\n",
    "    else:\n",
    "        padded = scaled_in\n",
    "\n",
    "    pysurf_out = padded[labels]\n",
    "    return pysurf_out\n",
    "\n",
    "\n",
    "def eigmode2plot(labels, alpha_optimized, k_optimized, fc_name, lap_type=\"complex\"):\n",
    "    hcp_dir = \"../data\"\n",
    "    thr_colors = 0.35\n",
    "    # Compute eigenmode dice with Brain:\n",
    "    brain = Brain.Brain()\n",
    "    brain.add_connectome(hcp_dir)\n",
    "    brain.reorder_connectome(brain.connectome, brain.distance_matrix)\n",
    "    brain.bi_symmetric_c()\n",
    "    brain.reduce_extreme_dir()\n",
    "    if lap_type == \"complex\":\n",
    "        brain.decompose_complex_laplacian(\n",
    "            alpha=alpha_optimized, k=k_optimized, num_ev=86\n",
    "        )\n",
    "    elif lap_type == \"real\":\n",
    "        brain.add_regular_laplacian_eigenmodes(\n",
    "            alpha=alpha_optimized, k=k_optimized, num_ev=86, vis=False\n",
    "        )\n",
    "\n",
    "    # Compute the spearman correlation again for both single eigenmode:\n",
    "    canon_network = np.nan_to_num(fc_dk_normalized.loc[fc_name].values)\n",
    "    corrs = np.squeeze(np.zeros([brain.norm_eigenmodes.shape[1], 1]))\n",
    "    for e in np.arange(0, len(corrs)):\n",
    "        spearman_corr = spearmanr(\n",
    "            np.squeeze(canon_network), brain.norm_eigenmodes[:, e]\n",
    "        )[0]\n",
    "        corrs[e] = spearman_corr\n",
    "\n",
    "    # Sort eigenmode by performance:\n",
    "    ntw_opt_corr = np.round(corrs, 3)\n",
    "    ordered_corr = np.argsort(-ntw_opt_corr)\n",
    "\n",
    "    # For single best eigenmode:\n",
    "    K = 1\n",
    "    canon_network = np.nan_to_num(fc_dk_normalized.loc[fc_name].values).reshape(-1, 1)\n",
    "    corr_eigs = brain.norm_eigenmodes[:, ordered_corr[0:K]]\n",
    "\n",
    "    # prepare eigmodes for pysurfer:\n",
    "    lh_best = pysurfer_prep(corr_eigs[0:34], labels)\n",
    "    rh_best = pysurfer_prep(corr_eigs[34:68], labels)\n",
    "\n",
    "    # For top 10 combined:\n",
    "    K = 10\n",
    "    corr_eigs = brain.norm_eigenmodes[:, ordered_corr[0:K]]\n",
    "    coef, r, _, _ = np.linalg.lstsq(corr_eigs, canon_network, rcond=None)\n",
    "    comb_eig = np.squeeze(np.matmul(corr_eigs, np.asarray(coef)))\n",
    "\n",
    "    # pysurfer:\n",
    "    lh_combined = pysurfer_prep(comb_eig[0:34], labels)\n",
    "    rh_combined = pysurfer_prep(comb_eig[34:68], labels)\n",
    "\n",
    "    # visualize:\n",
    "    # best eigenmode first:\n",
    "    best_min = 0.20+lh_best.min()\n",
    "    best_max = 0.95*lh_best.max()\n",
    "    best_mid = 0.70*lh_best.max()\n",
    "    sb = surface(subject_id, \"lh\", surf, background=\"white\", alpha=1)\n",
    "    sb.add_data(lh_best, hemi=\"lh\", thresh=thr_colors, colormap=plt.cm.autumn_r, remove_existing=True)\n",
    "    sb.scale_data_colormap(best_min, best_mid, best_max, transparent=False)\n",
    "\n",
    "    ## show lateral and medial views of left hemisphere and save figures\n",
    "    sb.show_view(\"lat\")\n",
    "    sb.save_image(\"%s_ScaledBest_Lat.svg\" % fc_name)\n",
    "    sb.show_view(\"med\")\n",
    "    sb.save_image(\"%s_ScaledBest_Med.svg\" % fc_name)\n",
    "\n",
    "    ## dorsal view with both hemispheres:\n",
    "    sb = surface(subject_id, \"both\", surf, background=\"white\", alpha=1)\n",
    "    sb.add_data(rh_best, hemi=\"rh\", thresh=thr_colors, colormap=plt.cm.autumn_r, remove_existing=True)\n",
    "    sb.add_data(lh_best, hemi=\"lh\", thresh=thr_colors, colormap=plt.cm.autumn_r, remove_existing=True)\n",
    "    sb.scale_data_colormap(best_min, best_mid, best_max, transparent=False)\n",
    "    ## save figures?\n",
    "    sb.show_view(\"dor\")\n",
    "    sb.save_image(\"%s_ScaledBest_Dor.svg\" % fc_name)\n",
    "\n",
    "    # combination:\n",
    "    # best eigenmode first:\n",
    "    combine_min, combine_max, combine_mid = 0.20+lh_combined.min(), 0.95*lh_combined.max(), 0.75*lh_combined.max()\n",
    "    sb = surface(subject_id, \"lh\", surf, background=\"white\", alpha=1)\n",
    "    sb.add_data(lh_combined, hemi=\"lh\", thresh=thr_colors, colormap=plt.cm.autumn_r, remove_existing=True)\n",
    "    sb.scale_data_colormap(combine_min, combine_mid, combine_max, transparent=False)\n",
    "\n",
    "    ## show lateral and medial views of left hemisphere and save figures\n",
    "    sb.show_view(\"lat\")\n",
    "    sb.save_image(\"%s_ScaledCombined_Lat.svg\" % fc_name)\n",
    "    sb.show_view(\"med\")\n",
    "    sb.save_image(\"%s_ScaledCombined_Med.svg\" % fc_name)\n",
    "\n",
    "    ## dorsal view with both hemispheres:\n",
    "    sb = surface(subject_id, \"both\", surf, background=\"white\", alpha=1)\n",
    "    sb.add_data(rh_combined, hemi=\"rh\", thresh=thr_colors, colormap=plt.cm.autumn_r, remove_existing=True)\n",
    "    sb.add_data(lh_combined, hemi=\"lh\", thresh=thr_colors, colormap=plt.cm.autumn_r, remove_existing=True)\n",
    "    sb.scale_data_colormap(combine_min, combine_mid, combine_max, transparent=False)\n",
    "    ## save figures?\n",
    "    sb.show_view(\"dor\")\n",
    "    sb.save_image(\"%s_ScaledCombined_Dor.svg\" % fc_name)\n",
    "    return lh_best, rh_best, lh_combined, rh_combined, ordered_corr"
   ]
  },
  {
   "cell_type": "markdown",
   "metadata": {},
   "source": [
    "limbic network:"
   ]
  },
  {
   "cell_type": "code",
   "execution_count": 41,
   "metadata": {},
   "outputs": [
    {
     "name": "stdout",
     "output_type": "stream",
     "text": [
      "colormap sequential: [0.00e+00, 5.00e-01, 1.00e+00] (opaque)\n",
      "colormap sequential: [2.00e-01, 7.00e-01, 9.50e-01] (opaque)\n",
      "colormap sequential: [0.00e+00, 5.00e-01, 1.00e+00] (opaque)\n",
      "colormap sequential: [0.00e+00, 5.00e-01, 1.00e+00] (opaque)\n",
      "colormap sequential: [2.00e-01, 7.00e-01, 9.50e-01] (opaque)\n",
      "colormap sequential: [0.00e+00, 5.00e-01, 1.00e+00] (opaque)\n",
      "colormap sequential: [2.00e-01, 7.50e-01, 9.50e-01] (opaque)\n",
      "colormap sequential: [0.00e+00, 5.00e-01, 1.00e+00] (opaque)\n",
      "colormap sequential: [0.00e+00, 5.00e-01, 1.00e+00] (opaque)\n",
      "colormap sequential: [2.00e-01, 7.50e-01, 9.50e-01] (opaque)\n",
      "Best eigenmode is #:35\n"
     ]
    }
   ],
   "source": [
    "lh_best, rh_best, lh_combined, rh_combined, ordered_corr = eigmode2plot(\n",
    "    labels, bh_default[\"x\"][0], bh_default[\"x\"][1], fc_name=\"Default\"\n",
    ")\n",
    "# figures are saved in current directory\n",
    "print('Best eigenmode is #:' + str(ordered_corr[0]))"
   ]
  },
  {
   "cell_type": "markdown",
   "metadata": {},
   "source": [
    "Visual:"
   ]
  },
  {
   "cell_type": "code",
   "execution_count": 42,
   "metadata": {},
   "outputs": [
    {
     "name": "stdout",
     "output_type": "stream",
     "text": [
      "colormap sequential: [0.00e+00, 5.00e-01, 1.00e+00] (opaque)\n",
      "colormap sequential: [2.00e-01, 7.00e-01, 9.50e-01] (opaque)\n",
      "colormap sequential: [0.00e+00, 5.00e-01, 1.00e+00] (opaque)\n",
      "colormap sequential: [0.00e+00, 5.00e-01, 1.00e+00] (opaque)\n",
      "colormap sequential: [2.00e-01, 7.00e-01, 9.50e-01] (opaque)\n",
      "colormap sequential: [0.00e+00, 5.00e-01, 1.00e+00] (opaque)\n",
      "colormap sequential: [2.00e-01, 7.50e-01, 9.50e-01] (opaque)\n",
      "colormap sequential: [0.00e+00, 5.00e-01, 1.00e+00] (opaque)\n",
      "colormap sequential: [0.00e+00, 5.00e-01, 1.00e+00] (opaque)\n",
      "colormap sequential: [2.00e-01, 7.50e-01, 9.50e-01] (opaque)\n",
      "19\n"
     ]
    }
   ],
   "source": [
    "lh_best, rh_best, lh_combined, rh_combined, ordered_corr = eigmode2plot(\n",
    "    labels, bh_visual[\"x\"][0], bh_visual[\"x\"][1], fc_name=\"Visual\"\n",
    ")\n",
    "# the figures are saved in current directory\n",
    "print(ordered_corr[0])"
   ]
  },
  {
   "cell_type": "markdown",
   "metadata": {},
   "source": [
    "Frontoparietal:"
   ]
  },
  {
   "cell_type": "code",
   "execution_count": 43,
   "metadata": {},
   "outputs": [
    {
     "name": "stdout",
     "output_type": "stream",
     "text": [
      "colormap sequential: [0.00e+00, 5.00e-01, 1.00e+00] (opaque)\n",
      "colormap sequential: [2.00e-01, 7.00e-01, 9.50e-01] (opaque)\n",
      "colormap sequential: [0.00e+00, 5.00e-01, 1.00e+00] (opaque)\n",
      "colormap sequential: [0.00e+00, 5.00e-01, 1.00e+00] (opaque)\n",
      "colormap sequential: [2.00e-01, 7.00e-01, 9.50e-01] (opaque)\n",
      "colormap sequential: [0.00e+00, 5.00e-01, 1.00e+00] (opaque)\n",
      "colormap sequential: [2.00e-01, 7.50e-01, 9.50e-01] (opaque)\n",
      "colormap sequential: [0.00e+00, 5.00e-01, 1.00e+00] (opaque)\n",
      "colormap sequential: [0.00e+00, 5.00e-01, 1.00e+00] (opaque)\n",
      "colormap sequential: [2.00e-01, 7.50e-01, 9.50e-01] (opaque)\n",
      "17\n"
     ]
    }
   ],
   "source": [
    "lh_best, rh_best, lh_combined, rh_combined, ordered_corr = eigmode2plot(\n",
    "    labels, bh_front[\"x\"][0], bh_front[\"x\"][1], fc_name=\"Frontoparietal\"\n",
    ")\n",
    "# the figures are saved in current directory\n",
    "print(ordered_corr[0])"
   ]
  },
  {
   "cell_type": "markdown",
   "metadata": {},
   "source": [
    "Somatomotor:"
   ]
  },
  {
   "cell_type": "code",
   "execution_count": 44,
   "metadata": {},
   "outputs": [
    {
     "name": "stdout",
     "output_type": "stream",
     "text": [
      "colormap sequential: [0.00e+00, 5.00e-01, 1.00e+00] (opaque)\n",
      "colormap sequential: [2.00e-01, 7.00e-01, 9.50e-01] (opaque)\n",
      "colormap sequential: [0.00e+00, 5.00e-01, 1.00e+00] (opaque)\n",
      "colormap sequential: [0.00e+00, 5.00e-01, 1.00e+00] (opaque)\n",
      "colormap sequential: [2.00e-01, 7.00e-01, 9.50e-01] (opaque)\n",
      "colormap sequential: [0.00e+00, 5.00e-01, 1.00e+00] (opaque)\n",
      "colormap sequential: [2.00e-01, 7.50e-01, 9.50e-01] (opaque)\n",
      "colormap sequential: [0.00e+00, 5.00e-01, 1.00e+00] (opaque)\n",
      "colormap sequential: [0.00e+00, 5.00e-01, 1.00e+00] (opaque)\n",
      "colormap sequential: [2.00e-01, 7.50e-01, 9.50e-01] (opaque)\n",
      "84\n"
     ]
    }
   ],
   "source": [
    "lh_best, rh_best, lh_combined, rh_combined, ordered_corr = eigmode2plot(\n",
    "    labels, bh_motor[\"x\"][0], bh_motor[\"x\"][1], fc_name=\"Somatomotor\"\n",
    ")\n",
    "# the figures are saved in current directory\n",
    "print(ordered_corr[0])"
   ]
  },
  {
   "cell_type": "markdown",
   "metadata": {},
   "source": [
    "Ventral Attention:"
   ]
  },
  {
   "cell_type": "code",
   "execution_count": 45,
   "metadata": {},
   "outputs": [
    {
     "name": "stdout",
     "output_type": "stream",
     "text": [
      "colormap sequential: [0.00e+00, 5.00e-01, 1.00e+00] (opaque)\n",
      "colormap sequential: [2.00e-01, 7.00e-01, 9.50e-01] (opaque)\n",
      "colormap sequential: [0.00e+00, 5.00e-01, 1.00e+00] (opaque)\n",
      "colormap sequential: [0.00e+00, 5.00e-01, 1.00e+00] (opaque)\n",
      "colormap sequential: [2.00e-01, 7.00e-01, 9.50e-01] (opaque)\n",
      "colormap sequential: [0.00e+00, 5.00e-01, 1.00e+00] (opaque)\n",
      "colormap sequential: [2.00e-01, 7.50e-01, 9.50e-01] (opaque)\n",
      "colormap sequential: [0.00e+00, 5.00e-01, 1.00e+00] (opaque)\n",
      "colormap sequential: [0.00e+00, 5.00e-01, 1.00e+00] (opaque)\n",
      "colormap sequential: [2.00e-01, 7.50e-01, 9.50e-01] (opaque)\n",
      "56\n"
     ]
    }
   ],
   "source": [
    "lh_best, rh_best, lh_combined, rh_combined, ordered_corr = eigmode2plot(\n",
    "    labels, bh_ventral[\"x\"][0], bh_ventral[\"x\"][1], fc_name=\"Ventral_Attention\"\n",
    ")\n",
    "# the figures are saved in current directory\n",
    "print(ordered_corr[0])"
   ]
  },
  {
   "cell_type": "markdown",
   "metadata": {},
   "source": [
    "Dorsal Attention:"
   ]
  },
  {
   "cell_type": "code",
   "execution_count": 46,
   "metadata": {},
   "outputs": [
    {
     "name": "stdout",
     "output_type": "stream",
     "text": [
      "colormap sequential: [0.00e+00, 5.00e-01, 1.00e+00] (opaque)\n",
      "colormap sequential: [2.00e-01, 7.00e-01, 9.50e-01] (opaque)\n",
      "colormap sequential: [0.00e+00, 5.00e-01, 1.00e+00] (opaque)\n",
      "colormap sequential: [0.00e+00, 5.00e-01, 1.00e+00] (opaque)\n",
      "colormap sequential: [2.00e-01, 7.00e-01, 9.50e-01] (opaque)\n",
      "colormap sequential: [0.00e+00, 5.00e-01, 1.00e+00] (opaque)\n",
      "colormap sequential: [2.00e-01, 7.50e-01, 9.50e-01] (opaque)\n",
      "colormap sequential: [0.00e+00, 5.00e-01, 1.00e+00] (opaque)\n",
      "colormap sequential: [0.00e+00, 5.00e-01, 1.00e+00] (opaque)\n",
      "colormap sequential: [2.00e-01, 7.50e-01, 9.50e-01] (opaque)\n",
      "16\n"
     ]
    }
   ],
   "source": [
    "lh_best, rh_best, lh_combined, rh_combined, ordered_corr = eigmode2plot(\n",
    "    labels, bh_dorsal[\"x\"][0], bh_dorsal[\"x\"][1], fc_name=\"Dorsal_Attention\"\n",
    ")\n",
    "# the figures are saved in current directory\n",
    "print(ordered_corr[0])"
   ]
  },
  {
   "cell_type": "code",
   "execution_count": null,
   "metadata": {},
   "outputs": [],
   "source": []
  }
 ],
 "metadata": {
  "kernelspec": {
   "display_name": "Python (spectrome)",
   "language": "python",
   "name": "spectrome"
  },
  "language_info": {
   "codemirror_mode": {
    "name": "ipython",
    "version": 3
   },
   "file_extension": ".py",
   "mimetype": "text/x-python",
   "name": "python",
   "nbconvert_exporter": "python",
   "pygments_lexer": "ipython3",
   "version": "3.8.1"
  },
  "pycharm": {
   "stem_cell": {
    "cell_type": "raw",
    "metadata": {
     "collapsed": false
    },
    "source": []
   }
  }
 },
 "nbformat": 4,
 "nbformat_minor": 4
}
