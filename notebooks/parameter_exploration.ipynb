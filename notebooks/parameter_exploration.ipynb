{
 "cells": [
  {
   "cell_type": "markdown",
   "metadata": {},
   "source": [
    "Complex Laplacian and its eigenmodes are parameterized by $\\alpha$ and $k$.\n",
    "---\n",
    "\n",
    "Theory and math behind the eigenmodes:\n",
    "\n",
    "The simplest possible dynamic behavior of a damped system is the first order differential equation with one term, and it's rate of exponential decay is governed by a rate contant $\\beta$:\n",
    "\n",
    "\\begin{equation}\n",
    "\\label{dampedSys}\n",
    "  \\frac{dx_{1}(t)}{dt} = -\\beta x_{1}(t)\n",
    "\\end{equation}\n",
    "\n",
    "Where $x_{1}(t)$ is the average neuronal activation signal between all neurons within a region of interest. Thus we can interpret the above equation as the refractory period after neural discharge. But when viewing the brain as a network of interconnected regions, we want to introduce activities originating from other regions:\n",
    "\n",
    "\\begin{equation}\n",
    "  \\frac{dx_{i}(t)}{dt} = -\\beta (x_{i}(t) - \\frac{\\alpha}{\\pmb{deg_i}} \\sum_{i,j} c_{i,j} x_{j}(t-\\tau^{\\nu}_{i,j}))\n",
    "\\end{equation}\n",
    "\n",
    "The above equation introduces a connectivity $c_{i,j}$ term, which is normalized by a diagonal degree matrix and scaled by a coupling term $\\alpha$. $\\alpha$ acts as both a coupling constant as well as a parameter to distinguish the rate of diffusion from connected regions from $\\beta$. By introducing connectivity, we also have to take into account the distance between each connected regions, therefore the term $\\tau^{\\nu}_{i,j}$ is introduced as delay, and is computed by dividing fiber tract distance between regions and signal transmission velocity. Now if we transform the above equation into the Fourier domain, we obtain the follow complex expression:\n",
    "\n",
    "\\begin{equation}\n",
    "\\begin{aligned}\n",
    "    j\\omega X(\\omega)_{i} = -\\beta X(\\omega)_{i} + \\frac{\\alpha}{\\pmb{deg_i}} \\sum_j c_{i,j} e^{-j\\omega \\tau^{\\nu}_{i,j}} X(\\omega)\\\\\n",
    "    j\\omega \\bar{X}(\\omega) = -\\beta (I - \\alpha \\Delta^{-\\frac{1}{2}} C^{*}(\\omega)) \\bar{X}(\\omega)\\\\\n",
    "    j\\omega \\bar{X}(\\omega) = -B\\mathcal{L}\\bar{X}(\\omega)\\\\\n",
    "\\end{aligned}\n",
    "\\end{equation}\n",
    "\n",
    "Here, we introduced a complex component to our structural connectivity term as delays become phases in the Fourier domain, specifically, $x(t-\\tau^{\\nu}_{i,j}) \\to e^{-j\\omega \\tau^{\\nu}_{i,j}} X(\\omega)$, thus we can define a complex connectivity as a function of angular frequency $\\omega$ as $C(\\omega) = \\frac{1}{\\pmb{deg}}C^{*}(\\omega)$, where $C^{*}(\\omega) = c_{i,j}e^{-j\\omega \\tau^{\\nu}_{i,j}}$. By redefining the connectivity term from above, the complex Laplacian $\\mathcal{L}(\\omega)$ is then defined as $\\mathcal{L}(\\omega) = I - \\alpha C(\\omega)$. Next we decompose the complex Laplacian matrix $\\mathcal{L}$ into it's eigen modes and eigen values:\n",
    "\n",
    "\\begin{equation}\n",
    "    \\mathcal{L}(\\omega) = \\pmb(U)(\\omega)\\pmb{\\Lambda}(\\omega)\\pmb{U}(\\omega)^H\n",
    "\\end{equation}\n",
    "\n",
    "Where $\\pmb{\\Lambda}(\\omega) = diag([\\lambda_1(\\omega), ... , \\lambda_N(\\omega)])$ is a diagonal matrix consisting of the eigen values of the complex Laplacian matrix at angular frequency $\\omega$, and $\\pmb{U}(\\omega)$ are the eigen modes of the complex Laplacian matrix at angular frequency $\\omega$. We are going to see how these eigenmodes behave in their parameter space:"
   ]
  },
  {
   "cell_type": "code",
   "execution_count": 1,
   "metadata": {},
   "outputs": [],
   "source": [
    "import numpy as np\n",
    "import pandas as pd\n",
    "import matplotlib.pyplot as plt\n",
    "\n",
    "# spectrome imports\n",
    "from spectrome.brain import Brain\n",
    "from spectrome.utils import functions, path\n",
    "from spectrome.forward import eigenmode, runforward"
   ]
  },
  {
   "cell_type": "code",
   "execution_count": 2,
   "metadata": {},
   "outputs": [],
   "source": [
    "# Some house keeping:\n",
    "data_dir = \"../data\"\n",
    "\n",
    "# Define frequency range of interest\n",
    "fmin = 2  # 2Hz - 45Hz signal range, filter for this with hbp\n",
    "fmax = 45\n",
    "fvec = np.linspace(fmin, fmax, 40)\n",
    "\n",
    "# Load Pablo's Yeo 2017 canonical network maps\n",
    "fc_dk = np.load(\"../data/com_dk.npy\", allow_pickle=True).item()\n",
    "fc_dk_normalized = pd.read_csv(\"../data/DK_dictionary_normalized.csv\").set_index(\n",
    "    \"Unnamed: 0\"\n",
    ")\n",
    "\n",
    "# Define variables for analysis:\n",
    "alpha_vec = np.linspace(\n",
    "    0.5, 4.5, 17\n",
    ")  # np.linspace(0.5,5,10) # coupling strength values we are going to explore\n",
    "k_vec = np.linspace(0, 100, 11)  # wave numbers we are going to explore\n",
    "num_fc = 7  # 7 canonical networks\n",
    "num_emode = 86  # number of eigenmodes, we are using 86 region DK atlas\n",
    "\n",
    "default_k = 20  # default wave number\n",
    "default_alpha = 0.1  # default alpha\n",
    "\n",
    "# define list of canonical network names and re-order the dictionary using these names:\n",
    "fc_names = [\n",
    "    \"Limbic\",\n",
    "    \"Default\",\n",
    "    \"Visual\",\n",
    "    \"Fronto \\n parietal\",\n",
    "    \"Somato \\n motor\",\n",
    "    \"Dorsal \\n Attention\",\n",
    "    \"Ventral \\n Attention\",\n",
    "]\n",
    "fc_dk_normalized = fc_dk_normalized.reindex(\n",
    "    [\n",
    "        \"Limbic\",\n",
    "        \"Default\",\n",
    "        \"Visual\",\n",
    "        \"Frontoparietal\",\n",
    "        \"Somatomotor\",\n",
    "        \"Dorsal_Attention\",\n",
    "        \"Ventral_Attention\",\n",
    "    ]\n",
    ").fillna(0)\n",
    "\n",
    "# turbo color map\n",
    "turbo = functions.create_turbo_colormap()"
   ]
  },
  {
   "cell_type": "markdown",
   "metadata": {},
   "source": [
    "#### Explore varying coupling strength while keeping wave number default first"
   ]
  },
  {
   "cell_type": "code",
   "execution_count": 3,
   "metadata": {},
   "outputs": [],
   "source": [
    "## Create Brain object from spectrome\n",
    "alpha_brain = Brain.Brain()\n",
    "alpha_brain.add_connectome(data_dir)\n",
    "alpha_brain.reorder_connectome(alpha_brain.connectome, alpha_brain.distance_matrix)\n",
    "alpha_brain.bi_symmetric_c()\n",
    "alpha_brain.reduce_extreme_dir()\n",
    "\n",
    "## Compute correlation values:\n",
    "alpha_corr = np.zeros((num_emode, num_fc, len(alpha_vec)))\n",
    "for a_ind in np.arange(0, len(alpha_vec)):\n",
    "    alpha_brain.decompose_complex_laplacian(alpha=alpha_vec[a_ind], k=default_k)\n",
    "    alpha_corr[:, :, a_ind] = eigenmode.get_correlation_df(\n",
    "        alpha_brain.norm_eigenmodes, fc_dk_normalized, method=\"spearman\"\n",
    "    )"
   ]
  },
  {
   "cell_type": "code",
   "execution_count": 27,
   "metadata": {},
   "outputs": [
    {
     "data": {
      "image/png": "[encoded data removed]",
      "text/plain": [
       "<Figure size 504x288 with 7 Axes>"
      ]
     },
     "metadata": {
      "needs_background": "light"
     },
     "output_type": "display_data"
    }
   ],
   "source": [
    "## set-up some visualization details\n",
    "dynamic_range = [0.35, 0.65]  # for colormap\n",
    "# for coupling strength labels and number of ticks on x-axis:\n",
    "alpha_labels = np.linspace(0.5, 4.5, 3)\n",
    "n_ticks = 3\n",
    "\n",
    "## PLOT\n",
    "with plt.style.context(\"seaborn-paper\"):\n",
    "    alpha_corr_fig, alpha_ax = plt.subplots(1, 7, figsize=(7.0, 4.0), sharey=True)\n",
    "    for i, ax in enumerate(alpha_corr_fig.axes):\n",
    "        im = ax.imshow(alpha_corr[:, i, :], vmin=0, vmax=1, cmap=turbo, aspect=\"auto\")\n",
    "        ax.xaxis.set_major_locator(\n",
    "            plt.LinearLocator(numticks=n_ticks)\n",
    "        )  # LinearLocator(numticks = n_ticks)\n",
    "        ax.set_yticklabels([0, 1, 10, 20, 30, 40, 50, 60, 70, 80])\n",
    "        ax.xaxis.tick_top()\n",
    "        ax.set_xticklabels(alpha_labels, linespacing=0.2)\n",
    "        im.set_clim(dynamic_range)\n",
    "\n",
    "    plt.suptitle(\"Coupling Strength\", fontsize=12, fontweight=\"bold\", y=1.025)\n",
    "\n",
    "    #cbar_ax = alpha_corr_fig.add_axes([1, 0.15, 0.03, 0.7])\n",
    "    #cb = alpha_corr_fig.colorbar(im, cax=cbar_ax, extend=\"both\")\n",
    "    #alpha_corr_fig.add_subplot(1, 1, 1, frameon=False)\n",
    "    #plt.tick_params(labelcolor=\"none\", which=\"both\", axis = \"both\", top=\"off\", bottom=\"off\", left=\"off\", right=\"off\")\n",
    "    #plt.grid(False)\n",
    "    #plt.ylabel(\"Eigenmode Number\", fontsize=12)\n",
    "    \n",
    "    alpha_corr_fig.text(-0.008, 0.25,  'Eigenmode Number', rotation = 'vertical', fontsize = 12)\n",
    "    plt.tight_layout(w_pad = 0.30)\n",
    "    plt.savefig(\"../figures/fig4/coupling_strength.png\", dpi=300, bbox_inches=\"tight\")"
   ]
  },
  {
   "cell_type": "markdown",
   "metadata": {},
   "source": [
    "#### Set to default $\\alpha$ and explore wave number now:"
   ]
  },
  {
   "cell_type": "code",
   "execution_count": 14,
   "metadata": {},
   "outputs": [],
   "source": [
    "## Brain object with spectrome\n",
    "k_brain = Brain.Brain()\n",
    "k_brain.add_connectome(data_dir)\n",
    "k_brain.reorder_connectome(k_brain.connectome, k_brain.distance_matrix)\n",
    "k_brain.bi_symmetric_c()\n",
    "k_brain.reduce_extreme_dir()\n",
    "\n",
    "# preallocate empty correlation df\n",
    "k_corr = np.zeros((num_emode, num_fc, len(k_vec)))\n",
    "\n",
    "## Compute correlations\n",
    "for k in np.arange(0, len(k_vec)):\n",
    "    k_brain.decompose_complex_laplacian(alpha=default_alpha, k=k_vec[k], num_ev=86)\n",
    "    k_corr[:, :, k] = eigenmode.get_correlation_df(\n",
    "        k_brain.norm_eigenmodes, fc_dk_normalized, method=\"spearman\"\n",
    "    )"
   ]
  },
  {
   "cell_type": "code",
   "execution_count": 33,
   "metadata": {},
   "outputs": [
    {
     "name": "stderr",
     "output_type": "stream",
     "text": [
      "<ipython-input-33-caa4c14ef099>:32: UserWarning: This figure includes Axes that are not compatible with tight_layout, so results might be incorrect.\n",
      "  plt.tight_layout(w_pad = 0.25)\n"
     ]
    },
    {
     "data": {
      "image/png": "[encoded data removed]",
      "text/plain": [
       "<Figure size 450x288 with 8 Axes>"
      ]
     },
     "metadata": {
      "needs_background": "light"
     },
     "output_type": "display_data"
    }
   ],
   "source": [
    "n_ticks = 3\n",
    "k_labels = [0, 50, 100]\n",
    "\n",
    "## PLOT\n",
    "with plt.style.context(\"seaborn-paper\"):\n",
    "    k_corr_fig, k_ax = plt.subplots(1, 7, figsize=(6.25, 4.0), sharey=True)\n",
    "    for i, ax in enumerate(k_corr_fig.axes):\n",
    "        im = ax.imshow(k_corr[:, i, :], vmin=0, vmax=1, cmap=turbo, aspect=\"auto\")\n",
    "        ax.xaxis.set_major_locator(\n",
    "            plt.LinearLocator(numticks=n_ticks)\n",
    "        )  # LinearLocator(numticks = n_ticks)\n",
    "        ax.set_yticklabels([0, 1, 10, 20, 30, 40, 50, 60, 70, 80])\n",
    "        ax.xaxis.tick_top()\n",
    "        ax.set_xticklabels(k_labels)\n",
    "        im.set_clim(dynamic_range)\n",
    "        if i < 3:\n",
    "            ax.set_title(fc_names[i], y=-0.08, fontsize=8, weight=\"bold\")\n",
    "        else:\n",
    "            ax.set_title(fc_names[i], y=-0.12, fontsize=8, weight=\"bold\")\n",
    "\n",
    "    plt.suptitle(\"Wave Number\", fontsize=12, fontweight=\"bold\", y=1.025)\n",
    "\n",
    "    cbar_ax = k_corr_fig.add_axes([1, 0.15, 0.03, 0.7])\n",
    "    cb = k_corr_fig.colorbar(im, cax=cbar_ax, extend=\"both\")\n",
    "    cb.set_label(r'Spatial Similarity to $\\Psi_{CFN}$')\n",
    "    #k_corr_fig.add_subplot(1, 1, 1, frameon=False)\n",
    "    #plt.tick_params(labelcolor=\"none\", top=\"off\", bottom=\"off\", left=\"off\", right=\"off\")\n",
    "    #plt.grid(False)\n",
    "    #plt.ylabel(\"Eigenmode Number\", fontsize=12)\n",
    "    k_corr_fig.text(-0.008, 0.35, 'Eigenmode Number', rotation = 'vertical', fontsize = 12)\n",
    "\n",
    "    plt.tight_layout(w_pad = 0.25)\n",
    "    plt.savefig(\"../figures/fig4/wave_number.png\", dpi=300, bbox_inches=\"tight\")"
   ]
  },
  {
   "cell_type": "markdown",
   "metadata": {},
   "source": [
    "Complex Laplacian Eigenmodes\n",
    "---\n",
    "\n",
    "Find the highest spatial corelation values achieved by the best performing eigenmodes for each canonical network:"
   ]
  },
  {
   "cell_type": "markdown",
   "metadata": {},
   "source": [
    "Compute Spearman correlation values:"
   ]
  },
  {
   "cell_type": "code",
   "execution_count": null,
   "metadata": {},
   "outputs": [],
   "source": [
    "# pre-allocate an array for spearman R of best performing eigenmodes:\n",
    "params_bestr = np.zeros((len(alpha_vec), len(k_vec), num_fc))\n",
    "\n",
    "# Create brain object from spectrome with HCP connectome:\n",
    "hcp_brain = Brain.Brain()\n",
    "hcp_brain.add_connectome(data_dir)\n",
    "hcp_brain.reorder_connectome(hcp_brain.connectome, hcp_brain.distance_matrix)\n",
    "hcp_brain.bi_symmetric_c()\n",
    "hcp_brain.reduce_extreme_dir()\n",
    "\n",
    "# for each network, scan through alpha and k values, compute all eigenmode's spearman R\n",
    "# then select the best performing eigenmode's spearman R\n",
    "for i in np.arange(0, num_fc):\n",
    "    print('Computing for {} network'.format(fc_dk_normalized.index[i]))\n",
    "    for a_ind in np.arange(0, len(alpha_vec)):\n",
    "        for k_ind in np.arange(0, len(k_vec)):\n",
    "            # get eigenmodes of complex laplacian:\n",
    "            hcp_brain.decompose_complex_laplacian(alpha = alpha_vec[a_ind], k = k_vec[k_ind])\n",
    "            # compute spearman correlation\n",
    "            spearman_eig = eigenmode.get_correlation_df(\n",
    "                hcp_brain.norm_eigenmodes, fc_dk_normalized.iloc[[i]], method = 'spearman'\n",
    "            )\n",
    "            params_bestr[a_ind, k_ind, i] = np.max(spearman_eig.values)"
   ]
  },
  {
   "cell_type": "markdown",
   "metadata": {},
   "source": [
    "Visualize in heatmap:"
   ]
  },
  {
   "cell_type": "code",
   "execution_count": null,
   "metadata": {},
   "outputs": [],
   "source": [
    "dynamic_range = [0.30, 0.65]\n",
    "k_ticks = 11\n",
    "k_labels = np.linspace(0, 100, 11).astype(int)\n",
    "a_ticks = 3\n",
    "a_labels = np.linspace(0.5, 4.5, 3)\n",
    "\n",
    "with plt.style.context(\"seaborn-paper\"):\n",
    "    corr_fig, corr_ax = plt.subplots(1,7, figsize = (8,5))\n",
    "    for i, ax in enumerate(corr_fig.axes):\n",
    "        im = ax.imshow(np.transpose(params_bestr[:,:,i]), vmin = 0, vmax = 1, cmap = turbo, aspect = 'auto')\n",
    "        ax.yaxis.set_major_locator(plt.LinearLocator(numticks = k_ticks))\n",
    "        ax.xaxis.tick_top()\n",
    "        ax.set_yticklabels(k_labels)\n",
    "        ax.xaxis.set_major_locator(plt.LinearLocator(numticks = a_ticks))\n",
    "        ax.set_xticklabels(a_labels)\n",
    "        im.set_clim(dynamic_range)\n",
    "        if i < 3:\n",
    "            ax.set_title(fc_names[i], y=-0.08, fontsize=8, weight=\"bold\")\n",
    "        else:\n",
    "            ax.set_title(fc_names[i], y=-0.12, fontsize=8, weight=\"bold\")\n",
    "            \n",
    "    plt.suptitle('Coupling Strength', fontsize = 12, y = 1)\n",
    "    cbar_ax = corr_fig.add_axes([1, 0.15, 0.03, 0.7])\n",
    "    cb = corr_fig.colorbar(im, cax=cbar_ax, extend=\"both\")\n",
    "    corr_fig.add_subplot(1, 1, 1, frameon=False)\n",
    "    plt.tick_params(labelcolor=\"none\", top=\"off\", bottom=\"off\", left=\"off\", right=\"off\")\n",
    "    plt.grid(False)\n",
    "    plt.ylabel('Wave Number', fontsize = 12)\n",
    "    \n",
    "    plt.tight_layout()\n",
    "    plt.savefig('../figures/fig5/param_bestr.png', dpi = 300, bbox_inches = 'tight')"
   ]
  },
  {
   "cell_type": "markdown",
   "metadata": {},
   "source": [
    "Note - global coupling doesn't affect the best performing eigenmode but may change which eigenmode is the best performing eigenmode as well as the other eigenmodes."
   ]
  },
  {
   "cell_type": "markdown",
   "metadata": {},
   "source": [
    "Split the wave number parameter into oscillatory frequency and signal transmission velocity since wave number $k$ is defined as $k = \\frac{2 \\pi f}{\\nu}$. Then perform the same exploratory exercise as above:"
   ]
  },
  {
   "cell_type": "code",
   "execution_count": null,
   "metadata": {},
   "outputs": [],
   "source": [
    "# define parameter ranges:\n",
    "freq_vec = np.linspace(2, 47, 46)\n",
    "nu_vec = np.linspace(1, 20, 21)\n",
    "\n",
    "# define plotting visuals\n",
    "dynamic_range = [0.3, 0.7]\n",
    "f_ticks = 6\n",
    "f_labels = np.linspace(2, 47, 6).astype(int)\n",
    "nu_ticks = 3\n",
    "nu_labels = np.linspace(0.5, 20, 3).astype(int)\n",
    "\n",
    "#pre-allocate array for results\n",
    "k_bestr = np.zeros((len(freq_vec), len(nu_vec), num_fc))\n",
    "\n",
    "# compute spearman Rs:\n",
    "for i in np.arange(0, num_fc):\n",
    "    print('Computing for {} network'.format(fc_dk_normalized.index[i]))\n",
    "    for f_ind in np.arange(0, len(freq_vec)):\n",
    "        for v_ind in np.arange(0, len(nu_vec)):\n",
    "            # get eigenmodes of complex laplacian:\n",
    "            hcp_brain.decompose_complex_laplacian(alpha = default_alpha, k = None, f = freq_vec[f_ind], speed = nu_vec[v_ind])\n",
    "            # compute spearman correlation\n",
    "            spearman_eig = eigenmode.get_correlation_df(\n",
    "                hcp_brain.norm_eigenmodes, fc_dk_normalized.iloc[[i]], method = 'spearman'\n",
    "            )\n",
    "            k_bestr[f_ind, v_ind, i] = np.max(spearman_eig.values)\n",
    "            \n",
    "# Plot as above:\n",
    "with plt.style.context(\"seaborn-paper\"):\n",
    "    k_fig, k_ax = plt.subplots(1,7, figsize = (8,4))\n",
    "    for i, ax in enumerate(k_fig.axes):\n",
    "        im = ax.imshow(k_bestr[:,:,i], vmin = 0, vmax = 1, cmap = turbo, aspect = 'auto')\n",
    "        ax.yaxis.set_major_locator(plt.LinearLocator(numticks = f_ticks))\n",
    "        ax.xaxis.tick_top()\n",
    "        ax.set_yticklabels(f_labels)\n",
    "        ax.xaxis.set_major_locator(plt.LinearLocator(numticks = nu_ticks))\n",
    "        ax.set_xticklabels(nu_labels)\n",
    "        im.set_clim(dynamic_range)\n",
    "        if i < 3:\n",
    "            ax.set_title(fc_names[i], y=-0.08, fontsize=8, weight=\"bold\")\n",
    "        else:\n",
    "            ax.set_title(fc_names[i], y=-0.12, fontsize=8, weight=\"bold\")\n",
    "            \n",
    "    plt.suptitle('Transmission Velocity (m/s)', fontsize = 12, y = 1)\n",
    "    cbar_ax = k_fig.add_axes([1, 0.15, 0.03, 0.7])\n",
    "    cb = k_fig.colorbar(im, cax=cbar_ax, extend=\"both\")\n",
    "    k_fig.add_subplot(1, 1, 1, frameon=False)\n",
    "    plt.tick_params(labelcolor=\"none\", top=\"off\", bottom=\"off\", left=\"off\", right=\"off\")\n",
    "    plt.grid(False)\n",
    "    plt.ylabel('Frequency (Hz)', fontsize = 12)\n",
    "    \n",
    "    plt.tight_layout()\n",
    "    plt.savefig('../figures/fig5/k_bestr.png', dpi = 300, bbox_inches = 'tight')"
   ]
  }
 ],
 "metadata": {
  "kernelspec": {
   "display_name": "Python (spectrome)",
   "language": "python",
   "name": "spectrome"
  },
  "language_info": {
   "codemirror_mode": {
    "name": "ipython",
    "version": 3
   },
   "file_extension": ".py",
   "mimetype": "text/x-python",
   "name": "python",
   "nbconvert_exporter": "python",
   "pygments_lexer": "ipython3",
   "version": "3.8.1"
  }
 },
 "nbformat": 4,
 "nbformat_minor": 4
}
